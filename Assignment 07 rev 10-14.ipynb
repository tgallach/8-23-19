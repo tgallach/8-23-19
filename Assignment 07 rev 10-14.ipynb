{
  "nbformat": 4,
  "nbformat_minor": 0,
  "metadata": {
    "colab": {
      "name": "Untitled4.ipynb",
      "provenance": [],
      "include_colab_link": true
    },
    "kernelspec": {
      "name": "python3",
      "display_name": "Python 3"
    }
  },
  "cells": [
    {
      "cell_type": "markdown",
      "metadata": {
        "id": "view-in-github",
        "colab_type": "text"
      },
      "source": [
        "<a href=\"https://colab.research.google.com/github/tgallach/8-23-19/blob/master/Assignment%2007%20rev%2010-14.ipynb\" target=\"_parent\"><img src=\"https://colab.research.google.com/assets/colab-badge.svg\" alt=\"Open In Colab\"/></a>"
      ]
    },
    {
      "cell_type": "code",
      "metadata": {
        "id": "IhwaTFss7ccM",
        "colab_type": "code",
        "colab": {}
      },
      "source": [
        "\n",
        "import pandas as pd\n",
        "import numpy as np\n",
        "from numpy.random import shuffle\n",
        "from matplotlib import pyplot as plt"
      ],
      "execution_count": 0,
      "outputs": []
    },
    {
      "cell_type": "code",
      "metadata": {
        "id": "l-ZkQuxm7fLj",
        "colab_type": "code",
        "colab": {}
      },
      "source": [
        "np.random.seed(107) # initialize random number generator\n"
      ],
      "execution_count": 0,
      "outputs": []
    },
    {
      "cell_type": "code",
      "metadata": {
        "id": "JSqjwG64-0_p",
        "colab_type": "code",
        "colab": {}
      },
      "source": [
        "import pandas as pd\n",
        "PATH = \"http://optimizizer.com/data/tennis2.csv\"  # file location\n",
        "df = pd.read_csv(PATH)  # open csv file and save data to =df="
      ],
      "execution_count": 0,
      "outputs": []
    },
    {
      "cell_type": "code",
      "metadata": {
        "id": "3_fFmEOV-3yw",
        "colab_type": "code",
        "colab": {}
      },
      "source": [
        "# TODO: display the first rows\n"
      ],
      "execution_count": 0,
      "outputs": []
    },
    {
      "cell_type": "code",
      "metadata": {
        "id": "pH34pAwm-6np",
        "colab_type": "code",
        "outputId": "e7598fca-6483-47a2-ca9e-c5000962da05",
        "colab": {
          "base_uri": "https://localhost:8080/",
          "height": 204
        }
      },
      "source": [
        "df.head()"
      ],
      "execution_count": 5,
      "outputs": [
        {
          "output_type": "execute_result",
          "data": {
            "text/html": [
              "<div>\n",
              "<style scoped>\n",
              "    .dataframe tbody tr th:only-of-type {\n",
              "        vertical-align: middle;\n",
              "    }\n",
              "\n",
              "    .dataframe tbody tr th {\n",
              "        vertical-align: top;\n",
              "    }\n",
              "\n",
              "    .dataframe thead th {\n",
              "        text-align: right;\n",
              "    }\n",
              "</style>\n",
              "<table border=\"1\" class=\"dataframe\">\n",
              "  <thead>\n",
              "    <tr style=\"text-align: right;\">\n",
              "      <th></th>\n",
              "      <th>speed1</th>\n",
              "      <th>speed2</th>\n",
              "    </tr>\n",
              "  </thead>\n",
              "  <tbody>\n",
              "    <tr>\n",
              "      <th>0</th>\n",
              "      <td>68.20</td>\n",
              "      <td>61.50</td>\n",
              "    </tr>\n",
              "    <tr>\n",
              "      <th>1</th>\n",
              "      <td>82.72</td>\n",
              "      <td>73.55</td>\n",
              "    </tr>\n",
              "    <tr>\n",
              "      <th>2</th>\n",
              "      <td>72.45</td>\n",
              "      <td>81.49</td>\n",
              "    </tr>\n",
              "    <tr>\n",
              "      <th>3</th>\n",
              "      <td>76.55</td>\n",
              "      <td>73.92</td>\n",
              "    </tr>\n",
              "    <tr>\n",
              "      <th>4</th>\n",
              "      <td>77.25</td>\n",
              "      <td>82.60</td>\n",
              "    </tr>\n",
              "  </tbody>\n",
              "</table>\n",
              "</div>"
            ],
            "text/plain": [
              "   speed1  speed2\n",
              "0   68.20   61.50\n",
              "1   82.72   73.55\n",
              "2   72.45   81.49\n",
              "3   76.55   73.92\n",
              "4   77.25   82.60"
            ]
          },
          "metadata": {
            "tags": []
          },
          "execution_count": 5
        }
      ]
    },
    {
      "cell_type": "code",
      "metadata": {
        "id": "yVe3m3cc-9Oo",
        "colab_type": "code",
        "colab": {}
      },
      "source": [
        "# TODO: select the column speed1 and save it into the variable \"speed1\""
      ],
      "execution_count": 0,
      "outputs": []
    },
    {
      "cell_type": "code",
      "metadata": {
        "id": "WhNcRnDj_DOj",
        "colab_type": "code",
        "outputId": "c2976c6d-b1dd-426e-cfd9-8705a3f1fde9",
        "colab": {
          "base_uri": "https://localhost:8080/",
          "height": 374
        }
      },
      "source": [
        "speed1 = df.speed1\n",
        "speed1"
      ],
      "execution_count": 6,
      "outputs": [
        {
          "output_type": "execute_result",
          "data": {
            "text/plain": [
              "0     68.20\n",
              "1     82.72\n",
              "2     72.45\n",
              "3     76.55\n",
              "4     77.25\n",
              "5     79.07\n",
              "6     84.61\n",
              "7     68.36\n",
              "8     73.03\n",
              "9     85.07\n",
              "10    68.22\n",
              "11    79.83\n",
              "12    84.58\n",
              "13    84.17\n",
              "14    80.83\n",
              "15    73.08\n",
              "16    79.37\n",
              "17    73.36\n",
              "18    78.10\n",
              "19    60.73\n",
              "Name: speed1, dtype: float64"
            ]
          },
          "metadata": {
            "tags": []
          },
          "execution_count": 6
        }
      ]
    },
    {
      "cell_type": "code",
      "metadata": {
        "id": "RtsLElPX_Ly0",
        "colab_type": "code",
        "outputId": "93f2659c-9146-4a0f-af2f-3cbd56fb2c8e",
        "colab": {
          "base_uri": "https://localhost:8080/",
          "height": 34
        }
      },
      "source": [
        "# TODO: find sample average of \"speed1\", save the result in \"mean1\"\n",
        "# TODO a.\n",
        "mean1 = sum(speed1) / len(speed1)\n",
        "print(mean1)"
      ],
      "execution_count": 7,
      "outputs": [
        {
          "output_type": "stream",
          "text": [
            "76.47899999999998\n"
          ],
          "name": "stdout"
        }
      ]
    },
    {
      "cell_type": "code",
      "metadata": {
        "id": "97xyNaqxCD3E",
        "colab_type": "code",
        "outputId": "c00f3ef6-4a0f-46f2-b5e0-2213700f8fdb",
        "colab": {
          "base_uri": "https://localhost:8080/",
          "height": 374
        }
      },
      "source": [
        "# TODO: select the column speed2 and save it into the variable \"speed2\"\n",
        "speed2 = df.speed2\n",
        "speed2"
      ],
      "execution_count": 8,
      "outputs": [
        {
          "output_type": "execute_result",
          "data": {
            "text/plain": [
              "0     61.50\n",
              "1     73.55\n",
              "2     81.49\n",
              "3     73.92\n",
              "4     82.60\n",
              "5     75.48\n",
              "6     94.03\n",
              "7     80.69\n",
              "8     84.66\n",
              "9     66.10\n",
              "10    89.81\n",
              "11    78.36\n",
              "12    78.98\n",
              "13    72.73\n",
              "14    79.29\n",
              "15    73.64\n",
              "16    87.30\n",
              "17    83.34\n",
              "18    77.01\n",
              "19    71.22\n",
              "Name: speed2, dtype: float64"
            ]
          },
          "metadata": {
            "tags": []
          },
          "execution_count": 8
        }
      ]
    },
    {
      "cell_type": "code",
      "metadata": {
        "id": "NcFpSydfCG0v",
        "colab_type": "code",
        "outputId": "3c6d3343-71cb-4820-8211-d52f10c2e49a",
        "colab": {
          "base_uri": "https://localhost:8080/",
          "height": 34
        }
      },
      "source": [
        "# TODO: find sample average of \"speed2\", save the result in \"mean2\"\n",
        "# TODO b.\n",
        "mean2 = sum(speed2) / len(speed2)\n",
        "print(mean2)"
      ],
      "execution_count": 9,
      "outputs": [
        {
          "output_type": "stream",
          "text": [
            "78.285\n"
          ],
          "name": "stdout"
        }
      ]
    },
    {
      "cell_type": "code",
      "metadata": {
        "id": "SJh1SheWCJsm",
        "colab_type": "code",
        "outputId": "47b7c950-8b3b-4a39-f595-3d49a2e97214",
        "colab": {
          "base_uri": "https://localhost:8080/",
          "height": 34
        }
      },
      "source": [
        "# TODO: calculate the average of differences speed1-speed2 and \n",
        "# TODO: save it into the variable meandiff\n",
        "# TODO: c.\n",
        "meandiff = np.mean(speed1) - np.mean(speed2)\n",
        "print(meandiff)"
      ],
      "execution_count": 10,
      "outputs": [
        {
          "output_type": "stream",
          "text": [
            "-1.8060000000000116\n"
          ],
          "name": "stdout"
        }
      ]
    },
    {
      "cell_type": "code",
      "metadata": {
        "id": "W4BNpuVUCMMk",
        "colab_type": "code",
        "outputId": "2d2996fb-f617-4107-a586-d2a4277ea120",
        "colab": {
          "base_uri": "https://localhost:8080/",
          "height": 102
        }
      },
      "source": [
        "# TODO: Pool together the vectors speed1 and speed2, save the result into the variable \"pooled\"\n",
        "pooled = np.append(speed1, speed2)\n",
        "pooled"
      ],
      "execution_count": 11,
      "outputs": [
        {
          "output_type": "execute_result",
          "data": {
            "text/plain": [
              "array([68.2 , 82.72, 72.45, 76.55, 77.25, 79.07, 84.61, 68.36, 73.03,\n",
              "       85.07, 68.22, 79.83, 84.58, 84.17, 80.83, 73.08, 79.37, 73.36,\n",
              "       78.1 , 60.73, 61.5 , 73.55, 81.49, 73.92, 82.6 , 75.48, 94.03,\n",
              "       80.69, 84.66, 66.1 , 89.81, 78.36, 78.98, 72.73, 79.29, 73.64,\n",
              "       87.3 , 83.34, 77.01, 71.22])"
            ]
          },
          "metadata": {
            "tags": []
          },
          "execution_count": 11
        }
      ]
    },
    {
      "cell_type": "code",
      "metadata": {
        "id": "zHZFnvE9CPAk",
        "colab_type": "code",
        "colab": {}
      },
      "source": [
        "ntrials = 10000 # generate 10000 samples for the permutation test\n",
        "\n",
        "def trial():\n",
        "    shuffle(pooled) # random shuffle\n",
        "    # TODO: split the pooled dataset into two sets A and B\n",
        "    B = pooled[0:20]\n",
        "    A = pooled[20:]\n",
        "    # TODO: calculate average difference between A and B\n",
        "    meanb = np.mean(B)\n",
        "    meana = np.mean(A)\n",
        "    diff = meana - meanb\n",
        "    # TODO: return average difference as the result\n",
        "    return diff # TODO change this line\n",
        "simdata = [trial() for i in range(ntrials)]"
      ],
      "execution_count": 0,
      "outputs": []
    },
    {
      "cell_type": "code",
      "metadata": {
        "id": "6TIPB_n9CT5o",
        "colab_type": "code",
        "outputId": "a370e196-9763-42d8-b3ef-c2d4f77bb945",
        "colab": {
          "base_uri": "https://localhost:8080/",
          "height": 354
        }
      },
      "source": [
        "plt.hist(simdata)"
      ],
      "execution_count": 13,
      "outputs": [
        {
          "output_type": "execute_result",
          "data": {
            "text/plain": [
              "(array([2.000e+00, 2.000e+01, 1.630e+02, 8.770e+02, 2.150e+03, 2.805e+03,\n",
              "        2.394e+03, 1.212e+03, 3.250e+02, 5.200e+01]),\n",
              " array([-9.769 , -8.0438, -6.3186, -4.5934, -2.8682, -1.143 ,  0.5822,\n",
              "         2.3074,  4.0326,  5.7578,  7.483 ]),\n",
              " <a list of 10 Patch objects>)"
            ]
          },
          "metadata": {
            "tags": []
          },
          "execution_count": 13
        },
        {
          "output_type": "display_data",
          "data": {
            "image/png": "[encoded data removed]",
            "text/plain": [
              "<Figure size 432x288 with 1 Axes>"
            ]
          },
          "metadata": {
            "tags": []
          }
        }
      ]
    },
    {
      "cell_type": "code",
      "metadata": {
        "id": "vXSb1uafCWvw",
        "colab_type": "code",
        "outputId": "133957ca-4f01-4a8e-e9ab-c145612a7390",
        "colab": {
          "base_uri": "https://localhost:8080/",
          "height": 34
        }
      },
      "source": [
        "L = np.percentile(simdata,2.5) # calculate 2.5% percentile, part d.\n",
        "print(L)\n"
      ],
      "execution_count": 14,
      "outputs": [
        {
          "output_type": "stream",
          "text": [
            "-4.310250000000003\n"
          ],
          "name": "stdout"
        }
      ]
    },
    {
      "cell_type": "code",
      "metadata": {
        "id": "Sk9RF_bQCaPs",
        "colab_type": "code",
        "outputId": "145b39d7-1654-42a5-8da7-f94d9f1b6f09",
        "colab": {
          "base_uri": "https://localhost:8080/",
          "height": 34
        }
      },
      "source": [
        "U = np.percentile(simdata,97.5) # calculate 97.5% percentile, part e. \n",
        "print(U)\n"
      ],
      "execution_count": 15,
      "outputs": [
        {
          "output_type": "stream",
          "text": [
            "4.426050000000001\n"
          ],
          "name": "stdout"
        }
      ]
    },
    {
      "cell_type": "code",
      "metadata": {
        "id": "tpooWLZKn3kL",
        "colab_type": "code",
        "outputId": "e7ae17f2-38bd-41b2-93c7-14239b1fca68",
        "colab": {
          "base_uri": "https://localhost:8080/",
          "height": 34
        }
      },
      "source": [
        "print(\"95% CI is [{};{}]\".format(L,U))"
      ],
      "execution_count": 16,
      "outputs": [
        {
          "output_type": "stream",
          "text": [
            "95% CI is [-4.310250000000003;4.426050000000001]\n"
          ],
          "name": "stdout"
        }
      ]
    },
    {
      "cell_type": "code",
      "metadata": {
        "id": "dfHXXi9Zn46-",
        "colab_type": "code",
        "colab": {}
      },
      "source": [
        ""
      ],
      "execution_count": 0,
      "outputs": []
    }
  ]
}