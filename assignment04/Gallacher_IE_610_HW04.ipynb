{
  "nbformat": 4,
  "nbformat_minor": 0,
  "metadata": {
    "colab": {
      "name": "Gallacher - IE 610 HW04",
      "provenance": [],
      "authorship_tag": "ABX9TyOioZWwbyJuzpOzfSweBD6D",
      "include_colab_link": true
    },
    "kernelspec": {
      "name": "python3",
      "display_name": "Python 3"
    }
  },
  "cells": [
    {
      "cell_type": "markdown",
      "metadata": {
        "id": "view-in-github",
        "colab_type": "text"
      },
      "source": [
        "<a href=\"https://colab.research.google.com/github/tgallach/8-23-19/blob/master/assignment04/Gallacher_IE_610_HW04.ipynb\" target=\"_parent\"><img src=\"https://colab.research.google.com/assets/colab-badge.svg\" alt=\"Open In Colab\"/></a>"
      ]
    },
    {
      "cell_type": "code",
      "metadata": {
        "id": "RKJvPjEJjAIj",
        "colab_type": "code",
        "outputId": "a9a880e0-7404-47d2-ac57-cd58c065425c",
        "colab": {
          "base_uri": "https://localhost:8080/",
          "height": 289
        }
      },
      "source": [
        "\n",
        "!pip install pyomo\n",
        "from pyomo.environ import *\n",
        "import pandas as pd\n",
        "import os\n",
        "import numpy as np\n",
        "import networkx as nx\n",
        "\n",
        "num_files = 10\n",
        "\n",
        "for i in range(0, num_files):\n",
        "    \n",
        "    G = nx.Graph()\n",
        "    \n",
        "    file_name = 'problem'+str(i)+'.txt'\n",
        "    f = open(file_name, 'r')\n",
        "    f1 = f.readlines()\n",
        "    counter = 1\n",
        "    for x in f1:\n",
        "        temp_str = x.split()\n",
        "        if counter == 1:\n",
        "            num_nodes = int(temp_str[0])\n",
        "            num_edges = int(temp_str[1])\n",
        "        else:\n",
        "            G.add_node(int(temp_str[0]), group=0)\n",
        "            G.add_node(int(temp_str[1]), group=0)\n",
        "            G.add_edge(int(temp_str[0]), int(temp_str[1]), weight=int(temp_str[2]))\n",
        "            \n",
        "        counter = counter + 1\n",
        "                \n",
        "    for t in range(0, 10):\n",
        "        for n in G.nodes:          \n",
        "            sum_stay = 0\n",
        "            sum_switch = 0\n",
        "            for j in G.neighbors(n):\n",
        "                if G.nodes[j]['group'] != G.nodes[n]['group']:\n",
        "                    sum_stay = sum_stay + G[n][j]['weight']\n",
        "                if G.nodes[j]['group'] == G.nodes[n]['group']:\n",
        "                    sum_switch = sum_switch + G[n][j]['weight']\n",
        "            if sum_switch > sum_stay:\n",
        "                G.nodes[n]['group'] = 1 - G.nodes[n]['group']\n",
        "                \n",
        "    total_cost = 0\n",
        "    for e in G.edges:\n",
        "        total_cost = total_cost + G[e[0]][e[1]]['weight']*((G.nodes[e[0]]['group']-G.nodes[e[1]]['group'])**2) \n",
        "    print(total_cost)\n",
        "    \n",
        "    out_file_name = 'problem'+ str(i) + '-sol.txt'\n",
        "    f2 = open(out_file_name, 'w')\n",
        "    for i in range(1, num_nodes +1):\n",
        "        f2.write(str(G.nodes[i]['group']) + ' ')\n",
        "    f2.close()"
      ],
      "execution_count": 0,
      "outputs": [
        {
          "output_type": "stream",
          "text": [
            "Requirement already satisfied: pyomo in /usr/local/lib/python3.6/dist-packages (5.6.8)\n",
            "Requirement already satisfied: appdirs in /usr/local/lib/python3.6/dist-packages (from pyomo) (1.4.3)\n",
            "Requirement already satisfied: PyUtilib>=5.7.3 in /usr/local/lib/python3.6/dist-packages (from pyomo) (5.7.3)\n",
            "Requirement already satisfied: six>=1.4 in /usr/local/lib/python3.6/dist-packages (from pyomo) (1.12.0)\n",
            "Requirement already satisfied: ply in /usr/local/lib/python3.6/dist-packages (from pyomo) (3.11)\n",
            "Requirement already satisfied: nose in /usr/local/lib/python3.6/dist-packages (from PyUtilib>=5.7.3->pyomo) (1.3.7)\n",
            "1816\n",
            "1874\n",
            "1862\n",
            "1858\n",
            "1838\n",
            "1784\n",
            "1866\n",
            "1820\n",
            "1826\n",
            "1776\n"
          ],
          "name": "stdout"
        }
      ]
    },
    {
      "cell_type": "code",
      "metadata": {
        "id": "vvDIBx0zUwsH",
        "colab_type": "code",
        "colab": {}
      },
      "source": [
        ""
      ],
      "execution_count": 0,
      "outputs": []
    }
  ]
}