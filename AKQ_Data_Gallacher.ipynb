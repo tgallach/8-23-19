{
  "nbformat": 4,
  "nbformat_minor": 0,
  "metadata": {
    "colab": {
      "name": "AKQ Data - Gallacher.ipynb",
      "version": "0.3.2",
      "provenance": [],
      "collapsed_sections": [],
      "include_colab_link": true
    },
    "kernelspec": {
      "name": "python3",
      "display_name": "Python 3"
    }
  },
  "cells": [
    {
      "cell_type": "markdown",
      "metadata": {
        "id": "view-in-github",
        "colab_type": "text"
      },
      "source": [
        "<a href=\"https://colab.research.google.com/github/tgallach/8-23-19/blob/master/AKQ_Data_Gallacher.ipynb\" target=\"_parent\"><img src=\"https://colab.research.google.com/assets/colab-badge.svg\" alt=\"Open In Colab\"/></a>"
      ]
    },
    {
      "cell_type": "code",
      "metadata": {
        "id": "ldys2OETvkJk",
        "colab_type": "code",
        "outputId": "f01c1d18-0fc6-49fa-fd48-586e8e2e0eaf",
        "colab": {
          "base_uri": "https://localhost:8080/",
          "height": 204
        }
      },
      "source": [
        "import pandas as pd\n",
        "PATH = \"http://optimizizer.com/data/\"\n",
        "hands = pd.read_csv(PATH + 'game-data-516.csv')\n",
        "hands.tail()\n"
      ],
      "execution_count": 0,
      "outputs": [
        {
          "output_type": "execute_result",
          "data": {
            "text/html": [
              "<div>\n",
              "<style scoped>\n",
              "    .dataframe tbody tr th:only-of-type {\n",
              "        vertical-align: middle;\n",
              "    }\n",
              "\n",
              "    .dataframe tbody tr th {\n",
              "        vertical-align: top;\n",
              "    }\n",
              "\n",
              "    .dataframe thead th {\n",
              "        text-align: right;\n",
              "    }\n",
              "</style>\n",
              "<table border=\"1\" class=\"dataframe\">\n",
              "  <thead>\n",
              "    <tr style=\"text-align: right;\">\n",
              "      <th></th>\n",
              "      <th>timeid</th>\n",
              "      <th>name</th>\n",
              "      <th>gender</th>\n",
              "      <th>pcard</th>\n",
              "      <th>ccard</th>\n",
              "      <th>position</th>\n",
              "      <th>paction</th>\n",
              "      <th>caction</th>\n",
              "      <th>outcome</th>\n",
              "    </tr>\n",
              "  </thead>\n",
              "  <tbody>\n",
              "    <tr>\n",
              "      <th>327</th>\n",
              "      <td>20190822115922</td>\n",
              "      <td>Justin Drake</td>\n",
              "      <td>male</td>\n",
              "      <td>king</td>\n",
              "      <td>ace</td>\n",
              "      <td>first</td>\n",
              "      <td>stay</td>\n",
              "      <td>stay</td>\n",
              "      <td>-1</td>\n",
              "    </tr>\n",
              "    <tr>\n",
              "      <th>328</th>\n",
              "      <td>20190822115928</td>\n",
              "      <td>Justin Drake</td>\n",
              "      <td>male</td>\n",
              "      <td>king</td>\n",
              "      <td>queen</td>\n",
              "      <td>second</td>\n",
              "      <td>stay</td>\n",
              "      <td>stay</td>\n",
              "      <td>1</td>\n",
              "    </tr>\n",
              "    <tr>\n",
              "      <th>329</th>\n",
              "      <td>20190822115934</td>\n",
              "      <td>Justin Drake</td>\n",
              "      <td>male</td>\n",
              "      <td>queen</td>\n",
              "      <td>king</td>\n",
              "      <td>first</td>\n",
              "      <td>stay</td>\n",
              "      <td>stay</td>\n",
              "      <td>-1</td>\n",
              "    </tr>\n",
              "    <tr>\n",
              "      <th>330</th>\n",
              "      <td>20190822115944</td>\n",
              "      <td>Justin Drake</td>\n",
              "      <td>male</td>\n",
              "      <td>king</td>\n",
              "      <td>queen</td>\n",
              "      <td>second</td>\n",
              "      <td>stay</td>\n",
              "      <td>stay</td>\n",
              "      <td>1</td>\n",
              "    </tr>\n",
              "    <tr>\n",
              "      <th>331</th>\n",
              "      <td>20190822115951</td>\n",
              "      <td>Justin Drake</td>\n",
              "      <td>male</td>\n",
              "      <td>ace</td>\n",
              "      <td>king</td>\n",
              "      <td>first</td>\n",
              "      <td>bet</td>\n",
              "      <td>fold</td>\n",
              "      <td>1</td>\n",
              "    </tr>\n",
              "  </tbody>\n",
              "</table>\n",
              "</div>"
            ],
            "text/plain": [
              "             timeid          name gender  ... paction caction outcome\n",
              "327  20190822115922  Justin Drake   male  ...    stay    stay      -1\n",
              "328  20190822115928  Justin Drake   male  ...    stay    stay       1\n",
              "329  20190822115934  Justin Drake   male  ...    stay    stay      -1\n",
              "330  20190822115944  Justin Drake   male  ...    stay    stay       1\n",
              "331  20190822115951  Justin Drake   male  ...     bet    fold       1\n",
              "\n",
              "[5 rows x 9 columns]"
            ]
          },
          "metadata": {
            "tags": []
          },
          "execution_count": 12
        }
      ]
    },
    {
      "cell_type": "code",
      "metadata": {
        "id": "_ucJBN3AwtLr",
        "colab_type": "code",
        "colab": {}
      },
      "source": [
        "#If the player had the first action, what was the outcome?"
      ],
      "execution_count": 0,
      "outputs": []
    },
    {
      "cell_type": "code",
      "metadata": {
        "id": "8hDgkGTUzhqo",
        "colab_type": "code",
        "outputId": "767f5686-9074-49b1-9329-1064b1e1cac6",
        "colab": {
          "base_uri": "https://localhost:8080/",
          "height": 68
        }
      },
      "source": [
        "import matplotlib.pyplot as plt\n",
        "%matplotlib inline\n",
        "\n",
        "hands.columns"
      ],
      "execution_count": 0,
      "outputs": [
        {
          "output_type": "execute_result",
          "data": {
            "text/plain": [
              "Index(['timeid', 'name', 'gender', 'pcard', 'ccard', 'position', 'paction',\n",
              "       'caction', 'outcome'],\n",
              "      dtype='object')"
            ]
          },
          "metadata": {
            "tags": []
          },
          "execution_count": 14
        }
      ]
    },
    {
      "cell_type": "code",
      "metadata": {
        "id": "eQcyroXG0uNR",
        "colab_type": "code",
        "outputId": "07fbe379-7e87-4142-a0c6-bb296a1e8604",
        "colab": {
          "base_uri": "https://localhost:8080/",
          "height": 1000
        }
      },
      "source": [
        "psubset = hands[hands.position==\"first\"]\n",
        "print(psubset)"
      ],
      "execution_count": 0,
      "outputs": [
        {
          "output_type": "stream",
          "text": [
            "             timeid             name  gender  ... paction caction outcome\n",
            "0    20190822115314           Jeremy    male  ...    stay    stay      -1\n",
            "1    20190822115321              Gui    male  ...    stay    stay      -1\n",
            "3    20190822115334           Tanner    male  ...     bet    call      -2\n",
            "4    20190822115336             CHEN    male  ...     bet    call      -2\n",
            "6    20190822115340           Jeremy    male  ...    stay    stay      -1\n",
            "8    20190822115348              Gui    male  ...     bet    fold       1\n",
            "9    20190822115348  Hayley Coughlin  female  ...     bet    call      -2\n",
            "12   20190822115355           Jeremy    male  ...     bet    fold       1\n",
            "13   20190822115359             CHEN    male  ...     bet    fold       1\n",
            "18   20190822115409              Gui    male  ...     bet    fold       1\n",
            "19   20190822115413           Tanner    male  ...    stay    stay       1\n",
            "20   20190822115414              Ebi    male  ...    stay    stay      -1\n",
            "21   20190822115415           Jeremy    male  ...    stay    stay      -1\n",
            "22   20190822115418        Alaina A.  female  ...     bet    call      -2\n",
            "24   20190822115420  Hayley Coughlin  female  ...     bet    fold       1\n",
            "27   20190822115425           Jeremy    male  ...     bet    fold       1\n",
            "28   20190822115425              Gui    male  ...    stay    stay      -1\n",
            "29   20190822115427           Tanner    male  ...    stay    stay      -1\n",
            "31   20190822115429      Rutvik Sule    male  ...     bet    call      -2\n",
            "33   20190822115430           Brenna  female  ...     bet    call      -2\n",
            "34   20190822115432          Patrick    male  ...    stay    stay      -1\n",
            "39   20190822115438        Alaina A.  female  ...    stay    stay      -1\n",
            "40   20190822115438           Jeremy    male  ...     bet    fold       1\n",
            "41   20190822115439              Gui    male  ...     bet    fold       1\n",
            "42   20190822115442  Hayley Coughlin  female  ...    stay    stay      -1\n",
            "43   20190822115443          AVINASH    male  ...     bet    call      -2\n",
            "45   20190822115445     Justin Drake    male  ...     bet    call      -2\n",
            "46   20190822115445           Tanner    male  ...    stay    stay      -1\n",
            "48   20190822115449              Ebi    male  ...     bet    fold       1\n",
            "49   20190822115450           Jeremy    male  ...     bet    fold       1\n",
            "..              ...              ...     ...  ...     ...     ...     ...\n",
            "275  20190822115732             CHEN    male  ...     bet    call      -2\n",
            "276  20190822115733        Alaina A.  female  ...     bet    call      -2\n",
            "277  20190822115734              Gui    male  ...    stay    stay      -1\n",
            "285  20190822115739      Rutvik Sule    male  ...    stay    stay      -1\n",
            "286  20190822115739           Jeremy    male  ...    stay    stay      -1\n",
            "287  20190822115741              Ebi    male  ...    stay    stay      -1\n",
            "289  20190822115741              Gui    male  ...     bet    fold       1\n",
            "290  20190822115742             CHEN    male  ...    stay    stay      -1\n",
            "291  20190822115742     Justin Drake    male  ...     bet    fold       1\n",
            "292  20190822115742          Patrick    male  ...     bet    call      -2\n",
            "294  20190822115744           Brenna  female  ...     bet    call      -2\n",
            "295  20190822115746        Alaina A.  female  ...     bet    fold       1\n",
            "297  20190822115747           Jeremy    male  ...     bet    call      -2\n",
            "302  20190822115749             CHEN    male  ...     bet    fold       1\n",
            "305  20190822115750           Tanner    male  ...     bet    fold       1\n",
            "308  20190822115753              Gui    male  ...     bet    fold       1\n",
            "311  20190822115755           Brenna  female  ...    stay    stay      -1\n",
            "312  20190822115756        Alaina A.  female  ...     bet    fold       1\n",
            "313  20190822115757      Rutvik Sule    male  ...    stay    stay      -1\n",
            "314  20190822115757             CHEN    male  ...     bet    call      -2\n",
            "315  20190822115757           Jeremy    male  ...    stay    stay      -1\n",
            "316  20190822115758          Patrick    male  ...     bet    fold       1\n",
            "317  20190822115759              Ebi    male  ...     bet    fold       1\n",
            "320  20190822115808     Justin Drake    male  ...     bet    fold       1\n",
            "321  20190822115816          Patrick    male  ...     bet    fold       1\n",
            "323  20190822115830     Justin Drake    male  ...     bet    fold       1\n",
            "325  20190822115843          Patrick    male  ...    stay    stay      -1\n",
            "327  20190822115922     Justin Drake    male  ...    stay    stay      -1\n",
            "329  20190822115934     Justin Drake    male  ...    stay    stay      -1\n",
            "331  20190822115951     Justin Drake    male  ...     bet    fold       1\n",
            "\n",
            "[171 rows x 9 columns]\n"
          ],
          "name": "stdout"
        }
      ]
    },
    {
      "cell_type": "code",
      "metadata": {
        "id": "lJlyNEgh2E5i",
        "colab_type": "code",
        "outputId": "376deef3-82dd-41cc-b4ad-7c6898bbea9a",
        "colab": {
          "base_uri": "https://localhost:8080/",
          "height": 286
        }
      },
      "source": [
        "plt.plot(psubset.pcard, psubset.outcome) # These next two lines were just me playing around with the code.  I wanted to know if the software would graph string values vs. float values.\n"
      ],
      "execution_count": 0,
      "outputs": [
        {
          "output_type": "execute_result",
          "data": {
            "text/plain": [
              "[<matplotlib.lines.Line2D at 0x7fd3531ebf98>]"
            ]
          },
          "metadata": {
            "tags": []
          },
          "execution_count": 18
        },
        {
          "output_type": "display_data",
          "data": {
            "image/png": "[encoded data removed]",
            "text/plain": [
              "<Figure size 432x288 with 1 Axes>"
            ]
          },
          "metadata": {
            "tags": []
          }
        }
      ]
    },
    {
      "cell_type": "code",
      "metadata": {
        "id": "D2oQbvsg3pms",
        "colab_type": "code",
        "outputId": "5129805d-1af1-42b5-b5de-f1c14e58b225",
        "colab": {
          "base_uri": "https://localhost:8080/",
          "height": 286
        }
      },
      "source": [
        "plt.plot(psubset.outcome, psubset.pcard)"
      ],
      "execution_count": 0,
      "outputs": [
        {
          "output_type": "execute_result",
          "data": {
            "text/plain": [
              "[<matplotlib.lines.Line2D at 0x7fd35096deb8>]"
            ]
          },
          "metadata": {
            "tags": []
          },
          "execution_count": 19
        },
        {
          "output_type": "display_data",
          "data": {
            "image/png": "[encoded data removed]",
            "text/plain": [
              "<Figure size 432x288 with 1 Axes>"
            ]
          },
          "metadata": {
            "tags": []
          }
        }
      ]
    },
    {
      "cell_type": "code",
      "metadata": {
        "id": "Iulp9fkD4Hc8",
        "colab_type": "code",
        "outputId": "6b9da7cf-215a-4e8f-b819-381d6709bb8c",
        "colab": {
          "base_uri": "https://localhost:8080/",
          "height": 232
        }
      },
      "source": [
        "p_outcome = []\n",
        "\n",
        "for row in hands[1:]:\n",
        "    outcome = float(row[-1])\n",
        "    position = row[-4]\n",
        "    \n",
        "    if position == 'first':\n",
        "        p_outcome.append(outcome)\n",
        "        \n",
        "avg_outcome = sum(p_outcome) / len(p_outcome)"
      ],
      "execution_count": 0,
      "outputs": [
        {
          "output_type": "error",
          "ename": "ValueError",
          "evalue": "ignored",
          "traceback": [
            "\u001b[0;31m---------------------------------------------------------------------------\u001b[0m",
            "\u001b[0;31mValueError\u001b[0m                                Traceback (most recent call last)",
            "\u001b[0;32m<ipython-input-29-010186ccb18c>\u001b[0m in \u001b[0;36m<module>\u001b[0;34m()\u001b[0m\n\u001b[1;32m      2\u001b[0m \u001b[0;34m\u001b[0m\u001b[0m\n\u001b[1;32m      3\u001b[0m \u001b[0;32mfor\u001b[0m \u001b[0mrow\u001b[0m \u001b[0;32min\u001b[0m \u001b[0mhands\u001b[0m\u001b[0;34m[\u001b[0m\u001b[0;36m1\u001b[0m\u001b[0;34m:\u001b[0m\u001b[0;34m]\u001b[0m\u001b[0;34m:\u001b[0m\u001b[0;34m\u001b[0m\u001b[0;34m\u001b[0m\u001b[0m\n\u001b[0;32m----> 4\u001b[0;31m     \u001b[0moutcome\u001b[0m \u001b[0;34m=\u001b[0m \u001b[0mfloat\u001b[0m\u001b[0;34m(\u001b[0m\u001b[0mrow\u001b[0m\u001b[0;34m[\u001b[0m\u001b[0;34m-\u001b[0m\u001b[0;36m1\u001b[0m\u001b[0;34m]\u001b[0m\u001b[0;34m)\u001b[0m\u001b[0;34m\u001b[0m\u001b[0;34m\u001b[0m\u001b[0m\n\u001b[0m\u001b[1;32m      5\u001b[0m     \u001b[0mposition\u001b[0m \u001b[0;34m=\u001b[0m \u001b[0mrow\u001b[0m\u001b[0;34m[\u001b[0m\u001b[0;34m-\u001b[0m\u001b[0;36m4\u001b[0m\u001b[0;34m]\u001b[0m\u001b[0;34m\u001b[0m\u001b[0;34m\u001b[0m\u001b[0m\n\u001b[1;32m      6\u001b[0m \u001b[0;34m\u001b[0m\u001b[0m\n",
            "\u001b[0;31mValueError\u001b[0m: could not convert string to float: 'd'"
          ]
        }
      ]
    },
    {
      "cell_type": "code",
      "metadata": {
        "id": "195AxeIW64d6",
        "colab_type": "code",
        "colab": {}
      },
      "source": [
        "#this is interesting, the software think there's a 'd' in the \"outcome\", column.  It's not visible, and I can only assume that means \"draw\", but there should be no draws in this game?"
      ],
      "execution_count": 0,
      "outputs": []
    },
    {
      "cell_type": "code",
      "metadata": {
        "id": "Xddh20z09TZj",
        "colab_type": "code",
        "colab": {}
      },
      "source": [
        "#this also means I won't be able to write any command that tries to calculate an average outcome.  Or no method that we've discussed yet anyway."
      ],
      "execution_count": 0,
      "outputs": []
    },
    {
      "cell_type": "code",
      "metadata": {
        "id": "3UHY_7NF98yP",
        "colab_type": "code",
        "outputId": "d50a9709-deca-4256-99ac-a7d292279109",
        "colab": {
          "base_uri": "https://localhost:8080/",
          "height": 1000
        }
      },
      "source": [
        "hands_fo = hands[ ((hands.position==\"first\") & (hands.outcome>0))]\n",
        "print(hands_fo)"
      ],
      "execution_count": 0,
      "outputs": [
        {
          "output_type": "stream",
          "text": [
            "             timeid             name  gender  ... paction caction outcome\n",
            "8    20190822115348              Gui    male  ...     bet    fold       1\n",
            "12   20190822115355           Jeremy    male  ...     bet    fold       1\n",
            "13   20190822115359             CHEN    male  ...     bet    fold       1\n",
            "18   20190822115409              Gui    male  ...     bet    fold       1\n",
            "19   20190822115413           Tanner    male  ...    stay    stay       1\n",
            "24   20190822115420  Hayley Coughlin  female  ...     bet    fold       1\n",
            "27   20190822115425           Jeremy    male  ...     bet    fold       1\n",
            "40   20190822115438           Jeremy    male  ...     bet    fold       1\n",
            "41   20190822115439              Gui    male  ...     bet    fold       1\n",
            "48   20190822115449              Ebi    male  ...     bet    fold       1\n",
            "49   20190822115450           Jeremy    male  ...     bet    fold       1\n",
            "59   20190822115457  Hayley Coughlin  female  ...     bet    fold       1\n",
            "62   20190822115500              NaN  female  ...    stay    stay       1\n",
            "68   20190822115505           Brenna  female  ...     bet    fold       1\n",
            "70   20190822115508        Alaina A.  female  ...    stay    stay       1\n",
            "80   20190822115515           Jeremy    male  ...    stay    stay       1\n",
            "90   20190822115521              NaN  female  ...     bet    fold       1\n",
            "91   20190822115522             CHEN    male  ...     bet    fold       1\n",
            "92   20190822115523              Gui    male  ...    stay    stay       1\n",
            "93   20190822115524  Hayley Coughlin  female  ...     bet    fold       1\n",
            "98   20190822115528     Justin Drake    male  ...     bet    fold       1\n",
            "100  20190822115530              NaN  female  ...     bet    fold       1\n",
            "105  20190822115534           Brenna  female  ...     bet    fold       1\n",
            "116  20190822115541  Hayley Coughlin  female  ...    stay    stay       1\n",
            "117  20190822115541              Ebi    male  ...    stay    stay       1\n",
            "118  20190822115542              Gui    male  ...     bet    fold       1\n",
            "124  20190822115549           Tanner    male  ...     bet    fold       1\n",
            "140  20190822115559     Justin Drake    male  ...     bet    fold       1\n",
            "141  20190822115601          Patrick    male  ...     bet    fold       1\n",
            "142  20190822115601           Jeremy    male  ...     bet    fold       1\n",
            "..              ...              ...     ...  ...     ...     ...     ...\n",
            "214  20190822115649  Hayley Coughlin  female  ...     bet    fold       1\n",
            "218  20190822115652             CHEN    male  ...     bet    fold       1\n",
            "227  20190822115703             CHEN    male  ...     bet    fold       1\n",
            "235  20190822115708           Brenna  female  ...     bet    fold       1\n",
            "237  20190822115710          Patrick    male  ...     bet    fold       1\n",
            "239  20190822115711           Tanner    male  ...     bet    fold       1\n",
            "240  20190822115712             CHEN    male  ...     bet    fold       1\n",
            "241  20190822115712              NaN  female  ...     bet    fold       1\n",
            "247  20190822115714              Gui    male  ...     bet    fold       1\n",
            "252  20190822115719           Tanner    male  ...     bet    fold       1\n",
            "253  20190822115719             CHEN    male  ...     bet    fold       1\n",
            "255  20190822115720     Justin Drake    male  ...     bet    fold       1\n",
            "258  20190822115722           Brenna  female  ...    stay    stay       1\n",
            "266  20190822115725  Hayley Coughlin  female  ...    stay    stay       1\n",
            "269  20190822115727           Tanner    male  ...     bet    fold       1\n",
            "270  20190822115728          Patrick    male  ...     bet    fold       1\n",
            "274  20190822115730           Jeremy    male  ...     bet    fold       1\n",
            "289  20190822115741              Gui    male  ...     bet    fold       1\n",
            "291  20190822115742     Justin Drake    male  ...     bet    fold       1\n",
            "295  20190822115746        Alaina A.  female  ...     bet    fold       1\n",
            "302  20190822115749             CHEN    male  ...     bet    fold       1\n",
            "305  20190822115750           Tanner    male  ...     bet    fold       1\n",
            "308  20190822115753              Gui    male  ...     bet    fold       1\n",
            "312  20190822115756        Alaina A.  female  ...     bet    fold       1\n",
            "316  20190822115758          Patrick    male  ...     bet    fold       1\n",
            "317  20190822115759              Ebi    male  ...     bet    fold       1\n",
            "320  20190822115808     Justin Drake    male  ...     bet    fold       1\n",
            "321  20190822115816          Patrick    male  ...     bet    fold       1\n",
            "323  20190822115830     Justin Drake    male  ...     bet    fold       1\n",
            "331  20190822115951     Justin Drake    male  ...     bet    fold       1\n",
            "\n",
            "[79 rows x 9 columns]\n"
          ],
          "name": "stdout"
        }
      ]
    },
    {
      "cell_type": "code",
      "metadata": {
        "id": "ASwinlYW-okP",
        "colab_type": "code",
        "outputId": "e84bef6e-b72a-4323-f18d-9bacaca9cf76",
        "colab": {
          "base_uri": "https://localhost:8080/",
          "height": 1000
        }
      },
      "source": [
        "hands_f = hands[ hands.position==\"first\" ]\n",
        "print(hands_f)"
      ],
      "execution_count": 0,
      "outputs": [
        {
          "output_type": "stream",
          "text": [
            "             timeid             name  gender  ... paction caction outcome\n",
            "0    20190822115314           Jeremy    male  ...    stay    stay      -1\n",
            "1    20190822115321              Gui    male  ...    stay    stay      -1\n",
            "3    20190822115334           Tanner    male  ...     bet    call      -2\n",
            "4    20190822115336             CHEN    male  ...     bet    call      -2\n",
            "6    20190822115340           Jeremy    male  ...    stay    stay      -1\n",
            "8    20190822115348              Gui    male  ...     bet    fold       1\n",
            "9    20190822115348  Hayley Coughlin  female  ...     bet    call      -2\n",
            "12   20190822115355           Jeremy    male  ...     bet    fold       1\n",
            "13   20190822115359             CHEN    male  ...     bet    fold       1\n",
            "18   20190822115409              Gui    male  ...     bet    fold       1\n",
            "19   20190822115413           Tanner    male  ...    stay    stay       1\n",
            "20   20190822115414              Ebi    male  ...    stay    stay      -1\n",
            "21   20190822115415           Jeremy    male  ...    stay    stay      -1\n",
            "22   20190822115418        Alaina A.  female  ...     bet    call      -2\n",
            "24   20190822115420  Hayley Coughlin  female  ...     bet    fold       1\n",
            "27   20190822115425           Jeremy    male  ...     bet    fold       1\n",
            "28   20190822115425              Gui    male  ...    stay    stay      -1\n",
            "29   20190822115427           Tanner    male  ...    stay    stay      -1\n",
            "31   20190822115429      Rutvik Sule    male  ...     bet    call      -2\n",
            "33   20190822115430           Brenna  female  ...     bet    call      -2\n",
            "34   20190822115432          Patrick    male  ...    stay    stay      -1\n",
            "39   20190822115438        Alaina A.  female  ...    stay    stay      -1\n",
            "40   20190822115438           Jeremy    male  ...     bet    fold       1\n",
            "41   20190822115439              Gui    male  ...     bet    fold       1\n",
            "42   20190822115442  Hayley Coughlin  female  ...    stay    stay      -1\n",
            "43   20190822115443          AVINASH    male  ...     bet    call      -2\n",
            "45   20190822115445     Justin Drake    male  ...     bet    call      -2\n",
            "46   20190822115445           Tanner    male  ...    stay    stay      -1\n",
            "48   20190822115449              Ebi    male  ...     bet    fold       1\n",
            "49   20190822115450           Jeremy    male  ...     bet    fold       1\n",
            "..              ...              ...     ...  ...     ...     ...     ...\n",
            "275  20190822115732             CHEN    male  ...     bet    call      -2\n",
            "276  20190822115733        Alaina A.  female  ...     bet    call      -2\n",
            "277  20190822115734              Gui    male  ...    stay    stay      -1\n",
            "285  20190822115739      Rutvik Sule    male  ...    stay    stay      -1\n",
            "286  20190822115739           Jeremy    male  ...    stay    stay      -1\n",
            "287  20190822115741              Ebi    male  ...    stay    stay      -1\n",
            "289  20190822115741              Gui    male  ...     bet    fold       1\n",
            "290  20190822115742             CHEN    male  ...    stay    stay      -1\n",
            "291  20190822115742     Justin Drake    male  ...     bet    fold       1\n",
            "292  20190822115742          Patrick    male  ...     bet    call      -2\n",
            "294  20190822115744           Brenna  female  ...     bet    call      -2\n",
            "295  20190822115746        Alaina A.  female  ...     bet    fold       1\n",
            "297  20190822115747           Jeremy    male  ...     bet    call      -2\n",
            "302  20190822115749             CHEN    male  ...     bet    fold       1\n",
            "305  20190822115750           Tanner    male  ...     bet    fold       1\n",
            "308  20190822115753              Gui    male  ...     bet    fold       1\n",
            "311  20190822115755           Brenna  female  ...    stay    stay      -1\n",
            "312  20190822115756        Alaina A.  female  ...     bet    fold       1\n",
            "313  20190822115757      Rutvik Sule    male  ...    stay    stay      -1\n",
            "314  20190822115757             CHEN    male  ...     bet    call      -2\n",
            "315  20190822115757           Jeremy    male  ...    stay    stay      -1\n",
            "316  20190822115758          Patrick    male  ...     bet    fold       1\n",
            "317  20190822115759              Ebi    male  ...     bet    fold       1\n",
            "320  20190822115808     Justin Drake    male  ...     bet    fold       1\n",
            "321  20190822115816          Patrick    male  ...     bet    fold       1\n",
            "323  20190822115830     Justin Drake    male  ...     bet    fold       1\n",
            "325  20190822115843          Patrick    male  ...    stay    stay      -1\n",
            "327  20190822115922     Justin Drake    male  ...    stay    stay      -1\n",
            "329  20190822115934     Justin Drake    male  ...    stay    stay      -1\n",
            "331  20190822115951     Justin Drake    male  ...     bet    fold       1\n",
            "\n",
            "[171 rows x 9 columns]\n"
          ],
          "name": "stdout"
        }
      ]
    },
    {
      "cell_type": "code",
      "metadata": {
        "id": "YpGjp_z4_LvJ",
        "colab_type": "code",
        "outputId": "d8936ab3-0fa6-4e09-886d-f0e55b42d11d",
        "colab": {
          "base_uri": "https://localhost:8080/",
          "height": 164
        }
      },
      "source": [
        "[len(hands_fo)] / [len(hands_f)]"
      ],
      "execution_count": 0,
      "outputs": [
        {
          "output_type": "error",
          "ename": "TypeError",
          "evalue": "ignored",
          "traceback": [
            "\u001b[0;31m---------------------------------------------------------------------------\u001b[0m",
            "\u001b[0;31mTypeError\u001b[0m                                 Traceback (most recent call last)",
            "\u001b[0;32m<ipython-input-39-4255dce7a461>\u001b[0m in \u001b[0;36m<module>\u001b[0;34m()\u001b[0m\n\u001b[0;32m----> 1\u001b[0;31m \u001b[0;34m[\u001b[0m\u001b[0mlen\u001b[0m\u001b[0;34m(\u001b[0m\u001b[0mhands_fo\u001b[0m\u001b[0;34m)\u001b[0m\u001b[0;34m]\u001b[0m \u001b[0;34m/\u001b[0m \u001b[0;34m[\u001b[0m\u001b[0mlen\u001b[0m\u001b[0;34m(\u001b[0m\u001b[0mhands_f\u001b[0m\u001b[0;34m)\u001b[0m\u001b[0;34m]\u001b[0m\u001b[0;34m\u001b[0m\u001b[0;34m\u001b[0m\u001b[0m\n\u001b[0m",
            "\u001b[0;31mTypeError\u001b[0m: unsupported operand type(s) for /: 'list' and 'list'"
          ]
        }
      ]
    },
    {
      "cell_type": "code",
      "metadata": {
        "id": "CHWlSes9_khP",
        "colab_type": "code",
        "outputId": "55639294-e3e2-4b9d-abee-7293859641e2",
        "colab": {
          "base_uri": "https://localhost:8080/",
          "height": 34
        }
      },
      "source": [
        "79/171 #Probability of winning when player has the first action."
      ],
      "execution_count": 0,
      "outputs": [
        {
          "output_type": "execute_result",
          "data": {
            "text/plain": [
              "0.4619883040935672"
            ]
          },
          "metadata": {
            "tags": []
          },
          "execution_count": 42
        }
      ]
    },
    {
      "cell_type": "code",
      "metadata": {
        "id": "kPzFmlqA_3WP",
        "colab_type": "code",
        "colab": {}
      },
      "source": [
        ""
      ],
      "execution_count": 0,
      "outputs": []
    }
  ]
}