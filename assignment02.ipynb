{
  "nbformat": 4,
  "nbformat_minor": 0,
  "metadata": {
    "colab": {
      "name": "assignment02.ipynb",
      "version": "0.3.2",
      "provenance": [],
      "collapsed_sections": [],
      "include_colab_link": true
    },
    "kernelspec": {
      "name": "python3",
      "display_name": "Python 3"
    }
  },
  "cells": [
    {
      "cell_type": "markdown",
      "metadata": {
        "id": "view-in-github",
        "colab_type": "text"
      },
      "source": [
        "<a href=\"https://colab.research.google.com/github/tgallach/8-23-19/blob/master/assignment02.ipynb\" target=\"_parent\"><img src=\"https://colab.research.google.com/assets/colab-badge.svg\" alt=\"Open In Colab\"/></a>"
      ]
    },
    {
      "cell_type": "code",
      "metadata": {
        "id": "R126MjPo24kc",
        "colab_type": "code",
        "colab": {}
      },
      "source": [
        "\n",
        "import pandas as pd\n",
        "PATH = \"http://optimizizer.com/data/game-ie516-fall2019.csv\"  # file location\n",
        "df = pd.read_csv(PATH)  # open csv file and save data to =df="
      ],
      "execution_count": 0,
      "outputs": []
    },
    {
      "cell_type": "code",
      "metadata": {
        "id": "CbfipdX826ao",
        "colab_type": "code",
        "colab": {
          "base_uri": "https://localhost:8080/",
          "height": 204
        },
        "outputId": "6dbf1fa3-b49a-4b8e-d523-58930a493768"
      },
      "source": [
        "df.head()"
      ],
      "execution_count": 2,
      "outputs": [
        {
          "output_type": "execute_result",
          "data": {
            "text/html": [
              "<div>\n",
              "<style scoped>\n",
              "    .dataframe tbody tr th:only-of-type {\n",
              "        vertical-align: middle;\n",
              "    }\n",
              "\n",
              "    .dataframe tbody tr th {\n",
              "        vertical-align: top;\n",
              "    }\n",
              "\n",
              "    .dataframe thead th {\n",
              "        text-align: right;\n",
              "    }\n",
              "</style>\n",
              "<table border=\"1\" class=\"dataframe\">\n",
              "  <thead>\n",
              "    <tr style=\"text-align: right;\">\n",
              "      <th></th>\n",
              "      <th>timeid</th>\n",
              "      <th>name</th>\n",
              "      <th>gender</th>\n",
              "      <th>pcard</th>\n",
              "      <th>ccard</th>\n",
              "      <th>position</th>\n",
              "      <th>paction</th>\n",
              "      <th>caction</th>\n",
              "      <th>outcome</th>\n",
              "    </tr>\n",
              "  </thead>\n",
              "  <tbody>\n",
              "    <tr>\n",
              "      <th>0</th>\n",
              "      <td>20190822115314</td>\n",
              "      <td>Jeremy</td>\n",
              "      <td>male</td>\n",
              "      <td>king</td>\n",
              "      <td>ace</td>\n",
              "      <td>first</td>\n",
              "      <td>stay</td>\n",
              "      <td>stay</td>\n",
              "      <td>-1</td>\n",
              "    </tr>\n",
              "    <tr>\n",
              "      <th>1</th>\n",
              "      <td>20190822115321</td>\n",
              "      <td>Gui</td>\n",
              "      <td>male</td>\n",
              "      <td>king</td>\n",
              "      <td>ace</td>\n",
              "      <td>first</td>\n",
              "      <td>stay</td>\n",
              "      <td>stay</td>\n",
              "      <td>-1</td>\n",
              "    </tr>\n",
              "    <tr>\n",
              "      <th>2</th>\n",
              "      <td>20190822115325</td>\n",
              "      <td>Jeremy</td>\n",
              "      <td>male</td>\n",
              "      <td>queen</td>\n",
              "      <td>ace</td>\n",
              "      <td>second</td>\n",
              "      <td>call</td>\n",
              "      <td>bet</td>\n",
              "      <td>-2</td>\n",
              "    </tr>\n",
              "    <tr>\n",
              "      <th>3</th>\n",
              "      <td>20190822115334</td>\n",
              "      <td>Tanner</td>\n",
              "      <td>male</td>\n",
              "      <td>king</td>\n",
              "      <td>ace</td>\n",
              "      <td>first</td>\n",
              "      <td>bet</td>\n",
              "      <td>call</td>\n",
              "      <td>-2</td>\n",
              "    </tr>\n",
              "    <tr>\n",
              "      <th>4</th>\n",
              "      <td>20190822115336</td>\n",
              "      <td>CHEN</td>\n",
              "      <td>male</td>\n",
              "      <td>king</td>\n",
              "      <td>ace</td>\n",
              "      <td>first</td>\n",
              "      <td>bet</td>\n",
              "      <td>call</td>\n",
              "      <td>-2</td>\n",
              "    </tr>\n",
              "  </tbody>\n",
              "</table>\n",
              "</div>"
            ],
            "text/plain": [
              "           timeid    name gender  pcard ccard position paction caction  outcome\n",
              "0  20190822115314  Jeremy   male   king   ace    first    stay    stay       -1\n",
              "1  20190822115321     Gui   male   king   ace    first    stay    stay       -1\n",
              "2  20190822115325  Jeremy   male  queen   ace   second    call     bet       -2\n",
              "3  20190822115334  Tanner   male   king   ace    first     bet    call       -2\n",
              "4  20190822115336    CHEN   male   king   ace    first     bet    call       -2"
            ]
          },
          "metadata": {
            "tags": []
          },
          "execution_count": 2
        }
      ]
    },
    {
      "cell_type": "code",
      "metadata": {
        "id": "ec_SOVgU3J6Z",
        "colab_type": "code",
        "colab": {
          "base_uri": "https://localhost:8080/",
          "height": 68
        },
        "outputId": "f3c674b4-dd37-4ab7-e63a-a3d866fb6749"
      },
      "source": [
        "df.columns"
      ],
      "execution_count": 3,
      "outputs": [
        {
          "output_type": "execute_result",
          "data": {
            "text/plain": [
              "Index(['timeid', 'name', 'gender', 'pcard', 'ccard', 'position', 'paction',\n",
              "       'caction', 'outcome'],\n",
              "      dtype='object')"
            ]
          },
          "metadata": {
            "tags": []
          },
          "execution_count": 3
        }
      ]
    },
    {
      "cell_type": "code",
      "metadata": {
        "id": "3ChjWAlc3Qsk",
        "colab_type": "code",
        "colab": {
          "base_uri": "https://localhost:8080/",
          "height": 1000
        },
        "outputId": "6bf5f3d9-5e64-4eb9-e6ef-1cf0e1523ef7"
      },
      "source": [
        "sbs1 = df[ (df.gender==\"male\") & (df.position==\"second\") & (df.pcard==\"king\") & (df.ccard==\"ace\")]\n",
        "print(sbs1)"
      ],
      "execution_count": 5,
      "outputs": [
        {
          "output_type": "stream",
          "text": [
            "             timeid                name gender  ... paction caction outcome\n",
            "23   20190822115419                 Gui   male  ...    call     bet      -2\n",
            "36   20190822115433                 Gui   male  ...    call     bet      -2\n",
            "66   20190822115504         Rutvik Sule   male  ...    call     bet      -2\n",
            "74   20190822115511              Jeremy   male  ...    fold     bet      -1\n",
            "91   20190822115527              Jeremy   male  ...    fold     bet      -1\n",
            "93   20190822115528              Tanner   male  ...    fold     bet      -1\n",
            "104  20190822115537         Rutvik Sule   male  ...    fold     bet      -1\n",
            "125  20190822115554              Jeremy   male  ...    call     bet      -2\n",
            "127  20190822115555                 Ebi   male  ...    call     bet      -2\n",
            "138  20190822115604         Rutvik Sule   male  ...    call     bet      -2\n",
            "142  20190822115608              Jeremy   male  ...    call     bet      -2\n",
            "156  20190822115620         Rutvik Sule   male  ...    fold     bet      -1\n",
            "178  20190822115635                CHEN   male  ...    call     bet      -2\n",
            "182  20190822115637        Justin Drake   male  ...    call     bet      -2\n",
            "194  20190822115646                CHEN   male  ...    call     bet      -2\n",
            "205  20190822115653         Rutvik Sule   male  ...    call     bet      -2\n",
            "210  20190822115657        Justin Drake   male  ...    call     bet      -2\n",
            "211  20190822115659                CHEN   male  ...    fold     bet      -1\n",
            "256  20190822115729         Rutvik Sule   male  ...    fold     bet      -1\n",
            "262  20190822115736        Justin Drake   male  ...    call     bet      -2\n",
            "266  20190822115737              Tanner   male  ...    call     bet      -2\n",
            "284  20190822115749         Rutvik Sule   male  ...    fold     bet      -1\n",
            "305  20190822115818        Justin Drake   male  ...    call     bet      -2\n",
            "307  20190822115830             Patrick   male  ...    call     bet      -2\n",
            "309  20190822115910        Justin Drake   male  ...    call     bet      -2\n",
            "396  20190822160813              Ritwik   male  ...    call     bet      -2\n",
            "398  20190822160824              Ritwik   male  ...    call     bet      -2\n",
            "419  20190822161050                 ABC   male  ...    fold     bet      -1\n",
            "421  20190822161100                 ABC   male  ...    call     bet      -2\n",
            "427  20190822192711              Lokesh   male  ...    call     bet      -2\n",
            "..              ...                 ...    ...  ...     ...     ...     ...\n",
            "552  20190823112747             AVINASH   male  ...    call     bet      -2\n",
            "582  20190823211151       Tim Gallacher   male  ...    call     bet      -2\n",
            "586  20190823211212       Tim Gallacher   male  ...    call     bet      -2\n",
            "612  20190823211426       Tim Gallacher   male  ...    fold     bet      -1\n",
            "636  20190823211627       Tim Gallacher   male  ...    call     bet      -2\n",
            "640  20190823211650       Tim Gallacher   male  ...    fold     bet      -1\n",
            "652  20190823211752       Tim Gallacher   male  ...    fold     bet      -1\n",
            "660  20190823211831       Tim Gallacher   male  ...    fold     bet      -1\n",
            "668  20190823211914       Tim Gallacher   male  ...    fold     bet      -1\n",
            "670  20190823211927       Tim Gallacher   male  ...    fold     bet      -1\n",
            "674  20190823211948       Tim Gallacher   male  ...    fold     bet      -1\n",
            "741  20190824135846  Karzan Mohamad-Ali   male  ...    call     bet      -2\n",
            "745  20190824135920  Karzan Mohamad-Ali   male  ...    call     bet      -2\n",
            "751  20190824140010  Karzan Mohamad-Ali   male  ...    call     bet      -2\n",
            "795  20190825164856             Avinash   male  ...    call     bet      -2\n",
            "813  20190825165212           Lakshmana   male  ...    call     bet      -2\n",
            "851  20190825165802           Lakshmana   male  ...    fold     bet      -1\n",
            "865  20190825170425           Lakshmana   male  ...    fold     bet      -1\n",
            "867  20190825170444           Lakshmana   male  ...    fold     bet      -1\n",
            "869  20190825170458           Lakshmana   male  ...    call     bet      -2\n",
            "892  20190825191411         SEAN MORGAN   male  ...    fold     bet      -1\n",
            "896  20190825191455         SEAN MORGAN   male  ...    call     bet      -2\n",
            "917  20190826000239         Matt Baucum   male  ...    fold     bet      -1\n",
            "929  20190826163515          Ben Larkin   male  ...    fold     bet      -1\n",
            "945  20190827072755         Jose Adrian   male  ...    call     bet      -2\n",
            "947  20190827072833         Jose Adrian   male  ...    call     bet      -2\n",
            "949  20190827072901         Jose Adrian   male  ...    fold     bet      -1\n",
            "983  20190827105033            SAllison   male  ...    fold     bet      -1\n",
            "985  20190827105049            SAllison   male  ...    fold     bet      -1\n",
            "993  20190827105201            SAllison   male  ...    fold     bet      -1\n",
            "\n",
            "[69 rows x 9 columns]\n"
          ],
          "name": "stdout"
        }
      ]
    },
    {
      "cell_type": "code",
      "metadata": {
        "id": "05wMlGwZ3-eV",
        "colab_type": "code",
        "colab": {
          "base_uri": "https://localhost:8080/",
          "height": 1000
        },
        "outputId": "16efce8d-5abd-4730-c7d1-edeb97860e1f"
      },
      "source": [
        "sbs2 = df[ ((df.gender==\"male\") & (df.pcard==\"king\")) | ((df.gender==\"male\") & (df.pcard==\"ace\"))]\n",
        "print(sbs2)"
      ],
      "execution_count": 6,
      "outputs": [
        {
          "output_type": "stream",
          "text": [
            "              timeid              name gender  ... paction caction outcome\n",
            "0     20190822115314            Jeremy   male  ...    stay    stay      -1\n",
            "1     20190822115321               Gui   male  ...    stay    stay      -1\n",
            "3     20190822115334            Tanner   male  ...     bet    call      -2\n",
            "4     20190822115336              CHEN   male  ...     bet    call      -2\n",
            "5     20190822115339               Gui   male  ...    stay    stay       1\n",
            "6     20190822115340            Jeremy   male  ...    stay    stay      -1\n",
            "7     20190822115347            Tanner   male  ...    stay    stay       1\n",
            "8     20190822115348               Gui   male  ...     bet    fold       1\n",
            "10    20190822115350            Jeremy   male  ...    stay    stay       1\n",
            "11    20190822115351              CHEN   male  ...    stay    stay       1\n",
            "12    20190822115355            Jeremy   male  ...     bet    fold       1\n",
            "13    20190822115359              CHEN   male  ...     bet    fold       1\n",
            "18    20190822115409               Gui   male  ...     bet    fold       1\n",
            "19    20190822115413            Tanner   male  ...    stay    stay       1\n",
            "20    20190822115414               Ebi   male  ...    stay    stay      -1\n",
            "23    20190822115419               Gui   male  ...    call     bet      -2\n",
            "25    20190822115420            Tanner   male  ...    stay    stay       1\n",
            "27    20190822115425            Jeremy   male  ...     bet    fold       1\n",
            "31    20190822115429       Rutvik Sule   male  ...     bet    call      -2\n",
            "34    20190822115432           Patrick   male  ...    stay    stay      -1\n",
            "36    20190822115433               Gui   male  ...    call     bet      -2\n",
            "37    20190822115434               Ebi   male  ...    stay    stay       1\n",
            "38    20190822115435            Jeremy   male  ...    stay    stay       1\n",
            "40    20190822115438            Jeremy   male  ...     bet    fold       1\n",
            "41    20190822115439               Gui   male  ...     bet    fold       1\n",
            "43    20190822115443           AVINASH   male  ...     bet    call      -2\n",
            "45    20190822115445      Justin Drake   male  ...     bet    call      -2\n",
            "49    20190822115450            Jeremy   male  ...     bet    fold       1\n",
            "53    20190822115453           Patrick   male  ...    stay    stay       1\n",
            "57    20190822115457               Gui   male  ...    stay    stay       1\n",
            "...              ...               ...    ...  ...     ...     ...     ...\n",
            "973   20190827104856          SAllison   male  ...    stay    stay       1\n",
            "976   20190827104935          SAllison   male  ...    stay    stay      -1\n",
            "977   20190827104941          SAllison   male  ...    stay    stay       1\n",
            "978   20190827104947          SAllison   male  ...     bet    fold       1\n",
            "979   20190827104955          SAllison   male  ...    stay    stay       1\n",
            "981   20190827105012          SAllison   male  ...    stay    stay       1\n",
            "982   20190827105021          SAllison   male  ...    stay    stay       1\n",
            "983   20190827105033          SAllison   male  ...    fold     bet      -1\n",
            "984   20190827105041          SAllison   male  ...     bet    fold       1\n",
            "985   20190827105049          SAllison   male  ...    fold     bet      -1\n",
            "986   20190827105054          SAllison   male  ...     bet    fold       1\n",
            "987   20190827105103          SAllison   male  ...    stay    stay       1\n",
            "989   20190827105116          SAllison   male  ...    stay    stay       1\n",
            "991   20190827105132          SAllison   male  ...    stay    stay       1\n",
            "992   20190827105141          SAllison   male  ...     bet    fold       1\n",
            "993   20190827105201          SAllison   male  ...    fold     bet      -1\n",
            "995   20190827105214          SAllison   male  ...    stay    stay       1\n",
            "996   20190827105225          SAllison   male  ...     bet    call      -2\n",
            "997   20190827105238          SAllison   male  ...    stay    stay       1\n",
            "998   20190827105243          SAllison   male  ...     bet    fold       1\n",
            "999   20190827105247          SAllison   male  ...    stay    stay       1\n",
            "1000  20190827105254          SAllison   male  ...    stay    stay      -1\n",
            "1002  20190827105314          SAllison   male  ...     bet    fold       1\n",
            "1003  20190827105322          SAllison   male  ...    stay    stay       1\n",
            "1137  20190831205700  Brandon Anderson   male  ...     bet    call      -2\n",
            "1138  20190831205716  Brandon Anderson   male  ...    stay    stay       1\n",
            "1141  20190831205801  Brandon Anderson   male  ...     bet    call      -2\n",
            "1142  20190831205807  Brandon Anderson   male  ...    stay    stay       1\n",
            "1147  20190831205913  Brandon Anderson   male  ...     bet    fold       1\n",
            "1149  20190831205934  Brandon Anderson   male  ...     bet    fold       1\n",
            "\n",
            "[563 rows x 9 columns]\n"
          ],
          "name": "stdout"
        }
      ]
    },
    {
      "cell_type": "code",
      "metadata": {
        "id": "RBlAq5g14tNQ",
        "colab_type": "code",
        "colab": {}
      },
      "source": [
        ""
      ],
      "execution_count": 0,
      "outputs": []
    }
  ]
}