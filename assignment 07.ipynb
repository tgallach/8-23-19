{
  "nbformat": 4,
  "nbformat_minor": 0,
  "metadata": {
    "colab": {
      "name": "Untitled4.ipynb",
      "provenance": [],
      "include_colab_link": true
    },
    "kernelspec": {
      "name": "python3",
      "display_name": "Python 3"
    }
  },
  "cells": [
    {
      "cell_type": "markdown",
      "metadata": {
        "id": "view-in-github",
        "colab_type": "text"
      },
      "source": [
        "<a href=\"https://colab.research.google.com/github/tgallach/8-23-19/blob/master/assignment%2007.ipynb\" target=\"_parent\"><img src=\"https://colab.research.google.com/assets/colab-badge.svg\" alt=\"Open In Colab\"/></a>"
      ]
    },
    {
      "cell_type": "code",
      "metadata": {
        "id": "IhwaTFss7ccM",
        "colab_type": "code",
        "colab": {}
      },
      "source": [
        "\n",
        "import pandas as pd\n",
        "import numpy as np\n",
        "from numpy.random import shuffle\n",
        "from matplotlib import pyplot as plt"
      ],
      "execution_count": 0,
      "outputs": []
    },
    {
      "cell_type": "code",
      "metadata": {
        "id": "l-ZkQuxm7fLj",
        "colab_type": "code",
        "colab": {}
      },
      "source": [
        "np.random.seed(107) # initialize random number generator\n"
      ],
      "execution_count": 0,
      "outputs": []
    },
    {
      "cell_type": "code",
      "metadata": {
        "id": "JSqjwG64-0_p",
        "colab_type": "code",
        "colab": {}
      },
      "source": [
        "import pandas as pd\n",
        "PATH = \"http://optimizizer.com/data/tennis2.csv\"  # file location\n",
        "df = pd.read_csv(PATH)  # open csv file and save data to =df="
      ],
      "execution_count": 0,
      "outputs": []
    },
    {
      "cell_type": "code",
      "metadata": {
        "id": "3_fFmEOV-3yw",
        "colab_type": "code",
        "colab": {}
      },
      "source": [
        "# TODO: display the first rows\n"
      ],
      "execution_count": 0,
      "outputs": []
    },
    {
      "cell_type": "code",
      "metadata": {
        "id": "pH34pAwm-6np",
        "colab_type": "code",
        "colab": {
          "base_uri": "https://localhost:8080/",
          "height": 204
        },
        "outputId": "7f6db0d9-485f-404b-cc0a-851ea718f050"
      },
      "source": [
        "df.head()"
      ],
      "execution_count": 19,
      "outputs": [
        {
          "output_type": "execute_result",
          "data": {
            "text/html": [
              "<div>\n",
              "<style scoped>\n",
              "    .dataframe tbody tr th:only-of-type {\n",
              "        vertical-align: middle;\n",
              "    }\n",
              "\n",
              "    .dataframe tbody tr th {\n",
              "        vertical-align: top;\n",
              "    }\n",
              "\n",
              "    .dataframe thead th {\n",
              "        text-align: right;\n",
              "    }\n",
              "</style>\n",
              "<table border=\"1\" class=\"dataframe\">\n",
              "  <thead>\n",
              "    <tr style=\"text-align: right;\">\n",
              "      <th></th>\n",
              "      <th>speed1</th>\n",
              "      <th>speed2</th>\n",
              "    </tr>\n",
              "  </thead>\n",
              "  <tbody>\n",
              "    <tr>\n",
              "      <th>0</th>\n",
              "      <td>68.20</td>\n",
              "      <td>61.50</td>\n",
              "    </tr>\n",
              "    <tr>\n",
              "      <th>1</th>\n",
              "      <td>82.72</td>\n",
              "      <td>73.55</td>\n",
              "    </tr>\n",
              "    <tr>\n",
              "      <th>2</th>\n",
              "      <td>72.45</td>\n",
              "      <td>81.49</td>\n",
              "    </tr>\n",
              "    <tr>\n",
              "      <th>3</th>\n",
              "      <td>76.55</td>\n",
              "      <td>73.92</td>\n",
              "    </tr>\n",
              "    <tr>\n",
              "      <th>4</th>\n",
              "      <td>77.25</td>\n",
              "      <td>82.60</td>\n",
              "    </tr>\n",
              "  </tbody>\n",
              "</table>\n",
              "</div>"
            ],
            "text/plain": [
              "   speed1  speed2\n",
              "0   68.20   61.50\n",
              "1   82.72   73.55\n",
              "2   72.45   81.49\n",
              "3   76.55   73.92\n",
              "4   77.25   82.60"
            ]
          },
          "metadata": {
            "tags": []
          },
          "execution_count": 19
        }
      ]
    },
    {
      "cell_type": "code",
      "metadata": {
        "id": "yVe3m3cc-9Oo",
        "colab_type": "code",
        "colab": {}
      },
      "source": [
        "# TODO: select the column speed1 and save it into the variable \"speed1\""
      ],
      "execution_count": 0,
      "outputs": []
    },
    {
      "cell_type": "code",
      "metadata": {
        "id": "WhNcRnDj_DOj",
        "colab_type": "code",
        "colab": {
          "base_uri": "https://localhost:8080/",
          "height": 374
        },
        "outputId": "b8de00a8-0319-49cf-f715-9d62026c897e"
      },
      "source": [
        "speed1 = df.speed1\n",
        "speed1"
      ],
      "execution_count": 23,
      "outputs": [
        {
          "output_type": "execute_result",
          "data": {
            "text/plain": [
              "0     68.20\n",
              "1     82.72\n",
              "2     72.45\n",
              "3     76.55\n",
              "4     77.25\n",
              "5     79.07\n",
              "6     84.61\n",
              "7     68.36\n",
              "8     73.03\n",
              "9     85.07\n",
              "10    68.22\n",
              "11    79.83\n",
              "12    84.58\n",
              "13    84.17\n",
              "14    80.83\n",
              "15    73.08\n",
              "16    79.37\n",
              "17    73.36\n",
              "18    78.10\n",
              "19    60.73\n",
              "Name: speed1, dtype: float64"
            ]
          },
          "metadata": {
            "tags": []
          },
          "execution_count": 23
        }
      ]
    },
    {
      "cell_type": "code",
      "metadata": {
        "id": "RtsLElPX_Ly0",
        "colab_type": "code",
        "colab": {
          "base_uri": "https://localhost:8080/",
          "height": 34
        },
        "outputId": "4e2759c8-42af-48dc-aef2-380e777d71c4"
      },
      "source": [
        "# TODO: find sample average of \"speed1\", save the result in \"mean1\"\n",
        "# TODO a.\n",
        "mean1 = sum(speed1) / len(speed1)\n",
        "print(mean1)"
      ],
      "execution_count": 25,
      "outputs": [
        {
          "output_type": "stream",
          "text": [
            "76.47899999999998\n"
          ],
          "name": "stdout"
        }
      ]
    },
    {
      "cell_type": "code",
      "metadata": {
        "id": "97xyNaqxCD3E",
        "colab_type": "code",
        "colab": {
          "base_uri": "https://localhost:8080/",
          "height": 374
        },
        "outputId": "162ce21f-c389-455b-e334-b84c5fa46068"
      },
      "source": [
        "# TODO: select the column speed2 and save it into the variable \"speed2\"\n",
        "speed2 = df.speed2\n",
        "speed2"
      ],
      "execution_count": 26,
      "outputs": [
        {
          "output_type": "execute_result",
          "data": {
            "text/plain": [
              "0     61.50\n",
              "1     73.55\n",
              "2     81.49\n",
              "3     73.92\n",
              "4     82.60\n",
              "5     75.48\n",
              "6     94.03\n",
              "7     80.69\n",
              "8     84.66\n",
              "9     66.10\n",
              "10    89.81\n",
              "11    78.36\n",
              "12    78.98\n",
              "13    72.73\n",
              "14    79.29\n",
              "15    73.64\n",
              "16    87.30\n",
              "17    83.34\n",
              "18    77.01\n",
              "19    71.22\n",
              "Name: speed2, dtype: float64"
            ]
          },
          "metadata": {
            "tags": []
          },
          "execution_count": 26
        }
      ]
    },
    {
      "cell_type": "code",
      "metadata": {
        "id": "NcFpSydfCG0v",
        "colab_type": "code",
        "colab": {
          "base_uri": "https://localhost:8080/",
          "height": 34
        },
        "outputId": "bceb0b79-7408-4993-e0af-0ba33bfad307"
      },
      "source": [
        "# TODO: find sample average of \"speed2\", save the result in \"mean2\"\n",
        "# TODO b.\n",
        "mean2 = sum(speed2) / len(speed2)\n",
        "print(mean2)"
      ],
      "execution_count": 27,
      "outputs": [
        {
          "output_type": "stream",
          "text": [
            "78.285\n"
          ],
          "name": "stdout"
        }
      ]
    },
    {
      "cell_type": "code",
      "metadata": {
        "id": "SJh1SheWCJsm",
        "colab_type": "code",
        "colab": {
          "base_uri": "https://localhost:8080/",
          "height": 71
        },
        "outputId": "28688a42-39f7-4e0c-d117-5c3109393a98"
      },
      "source": [
        "# TODO: calculate the average of differences speed1-speed2 and \n",
        "# TODO: save it into the variable meandiff\n",
        "# TODO: c.\n",
        "md = (68.2 - 61.5), (82.72 - 73.55), (72.45 - 81.49), (77.25 - 82.6), (79.07 - 75.48), (84.61 - 94.03), (68.36 - 80.69), (73.02 - 84.66), (75.07 - 66.10), (68.22 - 89.81), (79.83 - 78.36), (84.58 - 78.98), (84.17 - 72.73), (80.83 - 79.29), (73.08 - 73.64), (79.37 - 87.30), (73.36 - 83.34), (78.10 - 77.01), (60.73 - 71.22)\n",
        "print(md)\n",
        "meandiff = sum(md) / len(md)\n",
        "print(meandiff)"
      ],
      "execution_count": 31,
      "outputs": [
        {
          "output_type": "stream",
          "text": [
            "(6.700000000000003, 9.170000000000002, -9.039999999999992, -5.349999999999994, 3.589999999999989, -9.420000000000002, -12.329999999999998, -11.64, 8.969999999999999, -21.590000000000003, 1.4699999999999989, 5.599999999999994, 11.439999999999998, 1.539999999999992, -0.5600000000000023, -7.929999999999993, -9.980000000000004, 1.0899999999999892, -10.490000000000002)\n",
            "-2.5663157894736854\n"
          ],
          "name": "stdout"
        }
      ]
    },
    {
      "cell_type": "code",
      "metadata": {
        "id": "cmLjT4-SacoI",
        "colab_type": "code",
        "colab": {
          "base_uri": "https://localhost:8080/",
          "height": 34
        },
        "outputId": "58596291-2d51-4f27-f0a2-d3cee9de1ffd"
      },
      "source": [
        "meandiff2 = np.mean(speed1) - np.mean(speed2)\n",
        "print(meandiff2)"
      ],
      "execution_count": 49,
      "outputs": [
        {
          "output_type": "stream",
          "text": [
            "-1.8060000000000116\n"
          ],
          "name": "stdout"
        }
      ]
    },
    {
      "cell_type": "code",
      "metadata": {
        "id": "W4BNpuVUCMMk",
        "colab_type": "code",
        "colab": {
          "base_uri": "https://localhost:8080/",
          "height": 102
        },
        "outputId": "d298fb7f-afc6-4cf7-d8b4-650c6dad6b9d"
      },
      "source": [
        "# TODO: Pool together the vectors speed1 and speed2, save the result into the variable \"pooled\"\n",
        "pooled = np.append(speed1, speed2)\n",
        "pooled"
      ],
      "execution_count": 32,
      "outputs": [
        {
          "output_type": "execute_result",
          "data": {
            "text/plain": [
              "array([68.2 , 82.72, 72.45, 76.55, 77.25, 79.07, 84.61, 68.36, 73.03,\n",
              "       85.07, 68.22, 79.83, 84.58, 84.17, 80.83, 73.08, 79.37, 73.36,\n",
              "       78.1 , 60.73, 61.5 , 73.55, 81.49, 73.92, 82.6 , 75.48, 94.03,\n",
              "       80.69, 84.66, 66.1 , 89.81, 78.36, 78.98, 72.73, 79.29, 73.64,\n",
              "       87.3 , 83.34, 77.01, 71.22])"
            ]
          },
          "metadata": {
            "tags": []
          },
          "execution_count": 32
        }
      ]
    },
    {
      "cell_type": "code",
      "metadata": {
        "id": "zHZFnvE9CPAk",
        "colab_type": "code",
        "colab": {}
      },
      "source": [
        "ntrials = 10000 # generate 10000 samples for the permutation test\n",
        "\n",
        "def trial():\n",
        "    shuffle(pooled) # random shuffle\n",
        "    # TODO: split the pooled dataset into two sets A and B\n",
        "    B = pooled[0:9]\n",
        "    A = pooled[9:]\n",
        "    # TODO: calculate average difference between A and B\n",
        "    meanb = np.mean(B)\n",
        "    meana = np.mean(A)\n",
        "    diff = meana - meanb\n",
        "    # TODO: return average difference as the result\n",
        "    return diff # TODO change this line\n",
        "simdata = [trial() for i in range(ntrials)]"
      ],
      "execution_count": 0,
      "outputs": []
    },
    {
      "cell_type": "code",
      "metadata": {
        "id": "6TIPB_n9CT5o",
        "colab_type": "code",
        "colab": {
          "base_uri": "https://localhost:8080/",
          "height": 371
        },
        "outputId": "bcbc0d7e-0eb2-47fe-d81c-d269ef2fcab5"
      },
      "source": [
        "plt.hist(simdata)"
      ],
      "execution_count": 51,
      "outputs": [
        {
          "output_type": "execute_result",
          "data": {
            "text/plain": [
              "(array([  28.,  155.,  619., 1619., 2420., 2510., 1641.,  766.,  204.,\n",
              "          38.]),\n",
              " array([-9.29491039, -7.46064516, -5.62637993, -3.7921147 , -1.95784946,\n",
              "        -0.12358423,  1.710681  ,  3.54494624,  5.37921147,  7.2134767 ,\n",
              "         9.04774194]),\n",
              " <a list of 10 Patch objects>)"
            ]
          },
          "metadata": {
            "tags": []
          },
          "execution_count": 51
        },
        {
          "output_type": "display_data",
          "data": {
            "image/png": "[encoded data removed]",
            "text/plain": [
              "<Figure size 432x288 with 1 Axes>"
            ]
          },
          "metadata": {
            "tags": []
          }
        }
      ]
    },
    {
      "cell_type": "code",
      "metadata": {
        "id": "vXSb1uafCWvw",
        "colab_type": "code",
        "colab": {
          "base_uri": "https://localhost:8080/",
          "height": 34
        },
        "outputId": "819881c7-8c06-4848-8322-ac106ab0f3be"
      },
      "source": [
        "L = np.percentile(simdata,2.5) # calculate 2.5% percentile, part d.\n",
        "U = np.percentile(simdata,97.5) # calculate 97.5% percentile, part e. \n",
        "print(\"95% CI is [{};{}]\".format(L,U))"
      ],
      "execution_count": 52,
      "outputs": [
        {
          "output_type": "stream",
          "text": [
            "95% CI is [-5.282150537634417;5.337419354838719]\n"
          ],
          "name": "stdout"
        }
      ]
    },
    {
      "cell_type": "code",
      "metadata": {
        "id": "Sk9RF_bQCaPs",
        "colab_type": "code",
        "colab": {}
      },
      "source": [
        ""
      ],
      "execution_count": 0,
      "outputs": []
    }
  ]
}