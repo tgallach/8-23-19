{
  "nbformat": 4,
  "nbformat_minor": 0,
  "metadata": {
    "colab": {
      "name": "Untitled4.ipynb",
      "provenance": [],
      "include_colab_link": true
    },
    "kernelspec": {
      "name": "python3",
      "display_name": "Python 3"
    }
  },
  "cells": [
    {
      "cell_type": "markdown",
      "metadata": {
        "id": "view-in-github",
        "colab_type": "text"
      },
      "source": [
        "<a href=\"https://colab.research.google.com/github/tgallach/8-23-19/blob/master/assignment05.ipynb\" target=\"_parent\"><img src=\"https://colab.research.google.com/assets/colab-badge.svg\" alt=\"Open In Colab\"/></a>"
      ]
    },
    {
      "cell_type": "code",
      "metadata": {
        "id": "0Y-qfDPhXMkn",
        "colab_type": "code",
        "colab": {}
      },
      "source": [
        "import pandas as pd\n",
        "PATH = \"http://optimizizer.com/data/game-ie516-fall2019.csv\"  # file location\n",
        "hands = pd.read_csv(PATH)  # open csv file and save data to =hands="
      ],
      "execution_count": 0,
      "outputs": []
    },
    {
      "cell_type": "code",
      "metadata": {
        "id": "T-RV0VIqXYtB",
        "colab_type": "code",
        "colab": {
          "base_uri": "https://localhost:8080/",
          "height": 68
        },
        "outputId": "690f0537-767c-4bd4-8af9-46ada0f02246"
      },
      "source": [
        "hands.columns"
      ],
      "execution_count": 11,
      "outputs": [
        {
          "output_type": "execute_result",
          "data": {
            "text/plain": [
              "Index(['timeid', 'name', 'gender', 'pcard', 'ccard', 'position', 'paction',\n",
              "       'caction', 'outcome'],\n",
              "      dtype='object')"
            ]
          },
          "metadata": {
            "tags": []
          },
          "execution_count": 11
        }
      ]
    },
    {
      "cell_type": "code",
      "metadata": {
        "id": "uD90Obn9ZXKw",
        "colab_type": "code",
        "colab": {
          "base_uri": "https://localhost:8080/",
          "height": 1000
        },
        "outputId": "a02d5188-c446-427d-d254-c2d49307a43d"
      },
      "source": [
        "print(hands)\n",
        "\n"
      ],
      "execution_count": 14,
      "outputs": [
        {
          "output_type": "stream",
          "text": [
            "              timeid              name  gender  ... paction caction outcome\n",
            "0     20190822115314            Jeremy    male  ...    stay    stay      -1\n",
            "1     20190822115321               Gui    male  ...    stay    stay      -1\n",
            "2     20190822115325            Jeremy    male  ...    call     bet      -2\n",
            "3     20190822115334            Tanner    male  ...     bet    call      -2\n",
            "4     20190822115336              CHEN    male  ...     bet    call      -2\n",
            "5     20190822115339               Gui    male  ...    stay    stay       1\n",
            "6     20190822115340            Jeremy    male  ...    stay    stay      -1\n",
            "7     20190822115347            Tanner    male  ...    stay    stay       1\n",
            "8     20190822115348               Gui    male  ...     bet    fold       1\n",
            "9     20190822115348   Hayley Coughlin  female  ...     bet    call      -2\n",
            "10    20190822115350            Jeremy    male  ...    stay    stay       1\n",
            "11    20190822115351              CHEN    male  ...    stay    stay       1\n",
            "12    20190822115355            Jeremy    male  ...     bet    fold       1\n",
            "13    20190822115359              CHEN    male  ...     bet    fold       1\n",
            "14    20190822115403               Gui    male  ...    fold     bet      -1\n",
            "15    20190822115406              CHEN    male  ...    stay    stay      -1\n",
            "16    20190822115407            Jeremy    male  ...    fold     bet      -1\n",
            "17    20190822115408   Hayley Coughlin  female  ...    fold     bet      -1\n",
            "18    20190822115409               Gui    male  ...     bet    fold       1\n",
            "19    20190822115413            Tanner    male  ...    stay    stay       1\n",
            "20    20190822115414               Ebi    male  ...    stay    stay      -1\n",
            "21    20190822115415            Jeremy    male  ...    stay    stay      -1\n",
            "22    20190822115418         Alaina A.  female  ...     bet    call      -2\n",
            "23    20190822115419               Gui    male  ...    call     bet      -2\n",
            "24    20190822115420   Hayley Coughlin  female  ...     bet    fold       1\n",
            "25    20190822115420            Tanner    male  ...    stay    stay       1\n",
            "26    20190822115421            Jeremy    male  ...    fold     bet      -1\n",
            "27    20190822115425            Jeremy    male  ...     bet    fold       1\n",
            "28    20190822115425               Gui    male  ...    stay    stay      -1\n",
            "29    20190822115427            Tanner    male  ...    stay    stay      -1\n",
            "...              ...               ...     ...  ...     ...     ...     ...\n",
            "1151  20190831205958  Brandon Anderson    male  ...    stay    stay      -1\n",
            "1152  20190831210005  Brandon Anderson    male  ...    call     bet      -2\n",
            "1153  20190904120157     Carole Reeves  female  ...    stay    stay      -1\n",
            "1154  20190904120207     Carole Reeves  female  ...    stay    stay      -1\n",
            "1155  20190904120215     Carole Reeves  female  ...     bet    fold       1\n",
            "1156  20190904120230     Carole Reeves  female  ...    fold     bet      -1\n",
            "1157  20190904120249     Carole Reeves  female  ...    stay    stay      -1\n",
            "1158  20190904120257     Carole Reeves  female  ...    stay    stay       1\n",
            "1159  20190904120307     Carole Reeves  female  ...    stay    stay      -1\n",
            "1160  20190904120313     Carole Reeves  female  ...    stay    stay      -1\n",
            "1161  20190904120318     Carole Reeves  female  ...     bet    fold       1\n",
            "1162  20190904120330     Carole Reeves  female  ...    fold     bet      -1\n",
            "1163  20190904120336     Carole Reeves  female  ...     bet    call      -2\n",
            "1164  20190904120344     Carole Reeves  female  ...    fold     bet      -1\n",
            "1165  20190904120348     Carole Reeves  female  ...     bet    fold       1\n",
            "1166  20190904120400     Carole Reeves  female  ...    stay    stay       1\n",
            "1167  20190904120408     Carole Reeves  female  ...    stay    stay       1\n",
            "1168  20190904120416     Carole Reeves  female  ...    stay    stay      -1\n",
            "1169  20190904120421     Carole Reeves  female  ...     bet    fold       1\n",
            "1170  20190904120434     Carole Reeves  female  ...    stay    stay      -1\n",
            "1171  20190904120446     Carole Reeves  female  ...     bet    call      -2\n",
            "1172  20190904120451     Carole Reeves  female  ...    stay    stay       1\n",
            "1173  20190904120456     Carole Reeves  female  ...    stay    stay      -1\n",
            "1174  20190904120501     Carole Reeves  female  ...    stay    stay       1\n",
            "1175  20190904120506     Carole Reeves  female  ...     bet    call      -2\n",
            "1176  20190904120510     Carole Reeves  female  ...    stay    stay       1\n",
            "1177  20190904120515     Carole Reeves  female  ...    stay    stay      -1\n",
            "1178  20190904120522     Carole Reeves  female  ...    fold     bet      -1\n",
            "1179  20190904120527     Carole Reeves  female  ...     bet    fold       1\n",
            "1180  20190904120532     Carole Reeves  female  ...    stay    stay       1\n",
            "\n",
            "[1181 rows x 9 columns]\n"
          ],
          "name": "stdout"
        }
      ]
    },
    {
      "cell_type": "code",
      "metadata": {
        "id": "mDaunLLccKYT",
        "colab_type": "code",
        "colab": {
          "base_uri": "https://localhost:8080/",
          "height": 68
        },
        "outputId": "c212a5e3-1da7-41c7-f946-650bbb99e198"
      },
      "source": [
        "df_trial = hands[ (hands.name==\"Rutv\") ] #testing to see if \"Rutv\" is a name, or if the assignment is to filter all letters \"R, U, T, V\"\n",
        "print(df_trial)"
      ],
      "execution_count": 22,
      "outputs": [
        {
          "output_type": "stream",
          "text": [
            "Empty DataFrame\n",
            "Columns: [timeid, name, gender, pcard, ccard, position, paction, caction, outcome]\n",
            "Index: []\n"
          ],
          "name": "stdout"
        }
      ]
    },
    {
      "cell_type": "code",
      "metadata": {
        "id": "x19JPRTyd3Bg",
        "colab_type": "code",
        "colab": {
          "base_uri": "https://localhost:8080/",
          "height": 1000
        },
        "outputId": "4a5e5532-fb5f-47d8-d55f-3fe6c143e88f"
      },
      "source": [
        "df = hands[~hands[\"name\"].str.contains(\"r|u|t|v\")]\n",
        "print(df)"
      ],
      "execution_count": 21,
      "outputs": [
        {
          "output_type": "stream",
          "text": [
            "              timeid       name  gender  ... paction caction outcome\n",
            "4     20190822115336       CHEN    male  ...     bet    call      -2\n",
            "11    20190822115351       CHEN    male  ...    stay    stay       1\n",
            "13    20190822115359       CHEN    male  ...     bet    fold       1\n",
            "15    20190822115406       CHEN    male  ...    stay    stay      -1\n",
            "20    20190822115414        Ebi    male  ...    stay    stay      -1\n",
            "22    20190822115418  Alaina A.  female  ...     bet    call      -2\n",
            "30    20190822115428  Alaina A.  female  ...    fold     bet      -1\n",
            "37    20190822115434        Ebi    male  ...    stay    stay       1\n",
            "39    20190822115438  Alaina A.  female  ...    stay    stay      -1\n",
            "43    20190822115443    AVINASH    male  ...     bet    call      -2\n",
            "48    20190822115449        Ebi    male  ...     bet    fold       1\n",
            "54    20190822115454       CHEN    male  ...    stay    stay      -1\n",
            "56    20190822115457  Alaina A.  female  ...    call     bet      -2\n",
            "62    20190822115500        Ebi    male  ...    stay    stay       1\n",
            "64    20190822115502       CHEN    male  ...    stay    stay       1\n",
            "69    20190822115508  Alaina A.  female  ...    stay    stay       1\n",
            "71    20190822115508        Ebi    male  ...     bet    call      -2\n",
            "72    20190822115509       CHEN    male  ...     bet    call      -2\n",
            "77    20190822115515       CHEN    male  ...    stay    stay      -1\n",
            "85    20190822115521  Alaina A.  female  ...    stay    stay      -1\n",
            "86    20190822115521        Ebi    male  ...    stay    stay       1\n",
            "88    20190822115522       CHEN    male  ...     bet    fold       1\n",
            "95    20190822115530  Alaina A.  female  ...    stay    stay      -1\n",
            "108   20190822115540  Alaina A.  female  ...    stay    stay       1\n",
            "109   20190822115540  Alaina A.  female  ...    stay    stay       1\n",
            "111   20190822115541        Ebi    male  ...    stay    stay       1\n",
            "122   20190822115552  Alaina A.  female  ...    stay    stay      -1\n",
            "127   20190822115555        Ebi    male  ...    call     bet      -2\n",
            "131   20190822115559  Alaina A.  female  ...    call     bet      -2\n",
            "136   20190822115603        Ebi    male  ...     bet    call      -2\n",
            "...              ...        ...     ...  ...     ...     ...     ...\n",
            "974   20190827104914   SAllison    male  ...    stay    stay      -1\n",
            "975   20190827104923   SAllison    male  ...    fold     bet      -1\n",
            "976   20190827104935   SAllison    male  ...    stay    stay      -1\n",
            "977   20190827104941   SAllison    male  ...    stay    stay       1\n",
            "978   20190827104947   SAllison    male  ...     bet    fold       1\n",
            "979   20190827104955   SAllison    male  ...    stay    stay       1\n",
            "980   20190827105008   SAllison    male  ...    stay    stay      -1\n",
            "981   20190827105012   SAllison    male  ...    stay    stay       1\n",
            "982   20190827105021   SAllison    male  ...    stay    stay       1\n",
            "983   20190827105033   SAllison    male  ...    fold     bet      -1\n",
            "984   20190827105041   SAllison    male  ...     bet    fold       1\n",
            "985   20190827105049   SAllison    male  ...    fold     bet      -1\n",
            "986   20190827105054   SAllison    male  ...     bet    fold       1\n",
            "987   20190827105103   SAllison    male  ...    stay    stay       1\n",
            "988   20190827105109   SAllison    male  ...    stay    stay      -1\n",
            "989   20190827105116   SAllison    male  ...    stay    stay       1\n",
            "990   20190827105126   SAllison    male  ...    stay    stay      -1\n",
            "991   20190827105132   SAllison    male  ...    stay    stay       1\n",
            "992   20190827105141   SAllison    male  ...     bet    fold       1\n",
            "993   20190827105201   SAllison    male  ...    fold     bet      -1\n",
            "994   20190827105208   SAllison    male  ...    stay    stay      -1\n",
            "995   20190827105214   SAllison    male  ...    stay    stay       1\n",
            "996   20190827105225   SAllison    male  ...     bet    call      -2\n",
            "997   20190827105238   SAllison    male  ...    stay    stay       1\n",
            "998   20190827105243   SAllison    male  ...     bet    fold       1\n",
            "999   20190827105247   SAllison    male  ...    stay    stay       1\n",
            "1000  20190827105254   SAllison    male  ...    stay    stay      -1\n",
            "1001  20190827105303   SAllison    male  ...    fold     bet      -1\n",
            "1002  20190827105314   SAllison    male  ...     bet    fold       1\n",
            "1003  20190827105322   SAllison    male  ...    stay    stay       1\n",
            "\n",
            "[372 rows x 9 columns]\n"
          ],
          "name": "stdout"
        }
      ]
    },
    {
      "cell_type": "code",
      "metadata": {
        "id": "oCnBQMzigYkb",
        "colab_type": "code",
        "colab": {
          "base_uri": "https://localhost:8080/",
          "height": 952
        },
        "outputId": "cbd2b136-e4eb-4bc9-f508-df0cb3cf79db"
      },
      "source": [
        "answer_1 = df[ (df.caction==\"bet\") ]\n",
        "print(answer_1)"
      ],
      "execution_count": 24,
      "outputs": [
        {
          "output_type": "stream",
          "text": [
            "              timeid          name  gender  ... paction caction outcome\n",
            "30    20190822115428     Alaina A.  female  ...    fold     bet      -1\n",
            "56    20190822115457     Alaina A.  female  ...    call     bet      -2\n",
            "127   20190822115555           Ebi    male  ...    call     bet      -2\n",
            "131   20190822115559     Alaina A.  female  ...    call     bet      -2\n",
            "149   20190822115614     Alaina A.  female  ...    fold     bet      -1\n",
            "178   20190822115635          CHEN    male  ...    call     bet      -2\n",
            "179   20190822115635           Ebi    male  ...    call     bet      -2\n",
            "194   20190822115646          CHEN    male  ...    call     bet      -2\n",
            "211   20190822115659          CHEN    male  ...    fold     bet      -1\n",
            "228   20190822115715     Alaina A.  female  ...    fold     bet      -1\n",
            "265   20190822115737          CHEN    male  ...    call     bet      -2\n",
            "286   20190822115750           Ebi    male  ...    fold     bet      -1\n",
            "316   20190822132133            P2    male  ...    fold     bet      -1\n",
            "324   20190822132223            P2    male  ...    fold     bet      -1\n",
            "419   20190822161050           ABC    male  ...    fold     bet      -1\n",
            "421   20190822161100           ABC    male  ...    call     bet      -2\n",
            "427   20190822192711        Lokesh    male  ...    call     bet      -2\n",
            "429   20190822192739        Lokesh    male  ...    fold     bet      -1\n",
            "431   20190822192803        Lokesh    male  ...    call     bet      -2\n",
            "433   20190822192823        Lokesh    male  ...    call     bet      -2\n",
            "509   20190823112215       AVINASH    male  ...    call     bet      -2\n",
            "511   20190823112235       AVINASH    male  ...    fold     bet      -1\n",
            "513   20190823112247       AVINASH    male  ...    fold     bet      -1\n",
            "516   20190823112326       AVINASH    male  ...    call     bet      -2\n",
            "538   20190823112541       AVINASH    male  ...    call     bet      -2\n",
            "542   20190823112651       AVINASH    male  ...    fold     bet      -1\n",
            "544   20190823112703       AVINASH    male  ...    fold     bet      -1\n",
            "552   20190823112747       AVINASH    male  ...    call     bet      -2\n",
            "703   20190824114007  Haley Penney  female  ...    call     bet      -2\n",
            "717   20190824114411  Haley Penney  female  ...    fold     bet      -1\n",
            "724   20190824114539  Haley Penney  female  ...    call     bet      -2\n",
            "726   20190824114553  Haley Penney  female  ...    call     bet      -2\n",
            "732   20190824114634  Haley Penney  female  ...    call     bet      -2\n",
            "809   20190825165124     Lakshmana    male  ...    fold     bet      -1\n",
            "811   20190825165147     Lakshmana    male  ...    fold     bet      -1\n",
            "813   20190825165212     Lakshmana    male  ...    call     bet      -2\n",
            "841   20190825165655     Lakshmana    male  ...    fold     bet      -1\n",
            "851   20190825165802     Lakshmana    male  ...    fold     bet      -1\n",
            "857   20190825170317     Lakshmana    male  ...    call     bet      -2\n",
            "863   20190825170406     Lakshmana    male  ...    fold     bet      -1\n",
            "865   20190825170425     Lakshmana    male  ...    fold     bet      -1\n",
            "867   20190825170444     Lakshmana    male  ...    fold     bet      -1\n",
            "869   20190825170458     Lakshmana    male  ...    call     bet      -2\n",
            "872   20190825181034   SEAN MORGAN    male  ...    call     bet      -2\n",
            "892   20190825191411   SEAN MORGAN    male  ...    fold     bet      -1\n",
            "896   20190825191455   SEAN MORGAN    male  ...    call     bet      -2\n",
            "900   20190825191529   SEAN MORGAN    male  ...    call     bet      -2\n",
            "975   20190827104923      SAllison    male  ...    fold     bet      -1\n",
            "983   20190827105033      SAllison    male  ...    fold     bet      -1\n",
            "985   20190827105049      SAllison    male  ...    fold     bet      -1\n",
            "993   20190827105201      SAllison    male  ...    fold     bet      -1\n",
            "1001  20190827105303      SAllison    male  ...    fold     bet      -1\n",
            "\n",
            "[52 rows x 9 columns]\n"
          ],
          "name": "stdout"
        }
      ]
    },
    {
      "cell_type": "code",
      "metadata": {
        "id": "UBmruextyfUh",
        "colab_type": "code",
        "colab": {
          "base_uri": "https://localhost:8080/",
          "height": 34
        },
        "outputId": "9f8be90d-969d-4908-c0bb-53ffb10b1465"
      },
      "source": [
        "answer1 = 52/372\n",
        "print(answer1)"
      ],
      "execution_count": 27,
      "outputs": [
        {
          "output_type": "stream",
          "text": [
            "0.13978494623655913\n"
          ],
          "name": "stdout"
        }
      ]
    },
    {
      "cell_type": "code",
      "metadata": {
        "id": "k70buIepyxye",
        "colab_type": "code",
        "colab": {
          "base_uri": "https://localhost:8080/",
          "height": 1000
        },
        "outputId": "067486df-ab27-43f0-e915-94d0a44b933e"
      },
      "source": [
        "answer_2_1 = df[[df.gender == \"female\"] \n",
        "print(answer_2_1)"
      ],
      "execution_count": 29,
      "outputs": [
        {
          "output_type": "stream",
          "text": [
            "             timeid          name  gender  ... paction caction outcome\n",
            "22   20190822115418     Alaina A.  female  ...     bet    call      -2\n",
            "30   20190822115428     Alaina A.  female  ...    fold     bet      -1\n",
            "39   20190822115438     Alaina A.  female  ...    stay    stay      -1\n",
            "56   20190822115457     Alaina A.  female  ...    call     bet      -2\n",
            "69   20190822115508     Alaina A.  female  ...    stay    stay       1\n",
            "85   20190822115521     Alaina A.  female  ...    stay    stay      -1\n",
            "95   20190822115530     Alaina A.  female  ...    stay    stay      -1\n",
            "108  20190822115540     Alaina A.  female  ...    stay    stay       1\n",
            "109  20190822115540     Alaina A.  female  ...    stay    stay       1\n",
            "122  20190822115552     Alaina A.  female  ...    stay    stay      -1\n",
            "131  20190822115559     Alaina A.  female  ...    call     bet      -2\n",
            "139  20190822115605     Alaina A.  female  ...     bet    fold       1\n",
            "140  20190822115605     Alaina A.  female  ...     bet    fold       1\n",
            "149  20190822115614     Alaina A.  female  ...    fold     bet      -1\n",
            "160  20190822115621     Alaina A.  female  ...    stay    stay      -1\n",
            "173  20190822115633     Alaina A.  female  ...    stay    stay       1\n",
            "188  20190822115641     Alaina A.  female  ...    stay    stay      -1\n",
            "195  20190822115647     Alaina A.  female  ...    stay    stay       1\n",
            "196  20190822115647     Alaina A.  female  ...    stay    stay       1\n",
            "217  20190822115707     Alaina A.  female  ...    stay    stay      -1\n",
            "228  20190822115715     Alaina A.  female  ...    fold     bet      -1\n",
            "237  20190822115720     Alaina A.  female  ...    stay    stay      -1\n",
            "246  20190822115725     Alaina A.  female  ...    stay    stay      -1\n",
            "247  20190822115725     Alaina A.  female  ...    stay    stay      -1\n",
            "259  20190822115733     Alaina A.  female  ...     bet    call      -2\n",
            "271  20190822115741     Alaina A.  female  ...    stay    stay       1\n",
            "278  20190822115746     Alaina A.  female  ...     bet    fold       1\n",
            "290  20190822115751     Alaina A.  female  ...    stay    stay       1\n",
            "295  20190822115756     Alaina A.  female  ...     bet    fold       1\n",
            "301  20190822115759     Alaina A.  female  ...    stay    stay       1\n",
            "..              ...           ...     ...  ...     ...     ...     ...\n",
            "706  20190824114110  Haley Penney  female  ...     bet    fold       1\n",
            "707  20190824114119  Haley Penney  female  ...    stay    stay       1\n",
            "708  20190824114141  Haley Penney  female  ...    stay    stay      -1\n",
            "709  20190824114203  Haley Penney  female  ...    stay    stay      -1\n",
            "710  20190824114210  Haley Penney  female  ...     bet    fold       1\n",
            "711  20190824114219  Haley Penney  female  ...    stay    stay      -1\n",
            "712  20190824114226  Haley Penney  female  ...    stay    stay      -1\n",
            "713  20190824114233  Haley Penney  female  ...    stay    stay       1\n",
            "714  20190824114350  Haley Penney  female  ...     bet    call      -2\n",
            "715  20190824114356  Haley Penney  female  ...    stay    stay       1\n",
            "716  20190824114403  Haley Penney  female  ...     bet    call      -2\n",
            "717  20190824114411  Haley Penney  female  ...    fold     bet      -1\n",
            "718  20190824114418  Haley Penney  female  ...    stay    stay      -1\n",
            "719  20190824114452  Haley Penney  female  ...    stay    stay       1\n",
            "720  20190824114502  Haley Penney  female  ...    stay    stay       1\n",
            "721  20190824114516  Haley Penney  female  ...    stay    stay       1\n",
            "722  20190824114522  Haley Penney  female  ...    stay    stay       1\n",
            "723  20190824114529  Haley Penney  female  ...     bet    fold       1\n",
            "724  20190824114539  Haley Penney  female  ...    call     bet      -2\n",
            "725  20190824114546  Haley Penney  female  ...     bet    fold       1\n",
            "726  20190824114553  Haley Penney  female  ...    call     bet      -2\n",
            "727  20190824114559  Haley Penney  female  ...     bet    fold       1\n",
            "728  20190824114606  Haley Penney  female  ...    stay    stay       1\n",
            "729  20190824114615  Haley Penney  female  ...    stay    stay      -1\n",
            "730  20190824114621  Haley Penney  female  ...    stay    stay       1\n",
            "731  20190824114627  Haley Penney  female  ...     bet    fold       1\n",
            "732  20190824114634  Haley Penney  female  ...    call     bet      -2\n",
            "733  20190824114640  Haley Penney  female  ...     bet    fold       1\n",
            "734  20190824114647  Haley Penney  female  ...    stay    stay       1\n",
            "735  20190824114655  Haley Penney  female  ...     bet    call      -2\n",
            "\n",
            "[85 rows x 9 columns]\n"
          ],
          "name": "stdout"
        }
      ]
    },
    {
      "cell_type": "code",
      "metadata": {
        "id": "1MO6pwlWzReB",
        "colab_type": "code",
        "colab": {
          "base_uri": "https://localhost:8080/",
          "height": 238
        },
        "outputId": "372fb478-e5db-44e8-b5e6-241d49b4f5cb"
      },
      "source": [
        "answer_2_2 = answer_2_1[answer_2_1.caction == \"bet\"]\n",
        "print(answer_2_2)"
      ],
      "execution_count": 30,
      "outputs": [
        {
          "output_type": "stream",
          "text": [
            "             timeid          name  gender  ... paction caction outcome\n",
            "30   20190822115428     Alaina A.  female  ...    fold     bet      -1\n",
            "56   20190822115457     Alaina A.  female  ...    call     bet      -2\n",
            "131  20190822115559     Alaina A.  female  ...    call     bet      -2\n",
            "149  20190822115614     Alaina A.  female  ...    fold     bet      -1\n",
            "228  20190822115715     Alaina A.  female  ...    fold     bet      -1\n",
            "703  20190824114007  Haley Penney  female  ...    call     bet      -2\n",
            "717  20190824114411  Haley Penney  female  ...    fold     bet      -1\n",
            "724  20190824114539  Haley Penney  female  ...    call     bet      -2\n",
            "726  20190824114553  Haley Penney  female  ...    call     bet      -2\n",
            "732  20190824114634  Haley Penney  female  ...    call     bet      -2\n",
            "\n",
            "[10 rows x 9 columns]\n"
          ],
          "name": "stdout"
        }
      ]
    },
    {
      "cell_type": "code",
      "metadata": {
        "id": "yEEZQh_r0HXb",
        "colab_type": "code",
        "colab": {
          "base_uri": "https://localhost:8080/",
          "height": 34
        },
        "outputId": "54560cef-e978-49b7-e322-f0b130ca6cbe"
      },
      "source": [
        "answer2 = 10/85\n",
        "print(answer2)"
      ],
      "execution_count": 31,
      "outputs": [
        {
          "output_type": "stream",
          "text": [
            "0.11764705882352941\n"
          ],
          "name": "stdout"
        }
      ]
    },
    {
      "cell_type": "code",
      "metadata": {
        "id": "GUVNAOhq0O9z",
        "colab_type": "code",
        "colab": {}
      },
      "source": [
        ""
      ],
      "execution_count": 0,
      "outputs": []
    }
  ]
}