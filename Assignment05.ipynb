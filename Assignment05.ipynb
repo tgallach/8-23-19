{
  "nbformat": 4,
  "nbformat_minor": 0,
  "metadata": {
    "colab": {
      "name": "Assignment05.ipynb",
      "provenance": [],
      "include_colab_link": true
    },
    "kernelspec": {
      "name": "python3",
      "display_name": "Python 3"
    }
  },
  "cells": [
    {
      "cell_type": "markdown",
      "metadata": {
        "id": "view-in-github",
        "colab_type": "text"
      },
      "source": [
        "<a href=\"https://colab.research.google.com/github/tgallach/8-23-19/blob/master/Assignment05.ipynb\" target=\"_parent\"><img src=\"https://colab.research.google.com/assets/colab-badge.svg\" alt=\"Open In Colab\"/></a>"
      ]
    },
    {
      "cell_type": "code",
      "metadata": {
        "id": "j0a82ODMpMQR",
        "colab_type": "code",
        "colab": {
          "base_uri": "https://localhost:8080/",
          "height": 68
        },
        "outputId": "4f90bb0d-d64b-449a-8314-7eb48ee6e64c"
      },
      "source": [
        "import pandas as pd\n",
        "PATH = \"http://optimizizer.com/data/game-ie516-fall2019.csv\"\n",
        "df = pd.read_csv(PATH)\n",
        "df.columns"
      ],
      "execution_count": 1,
      "outputs": [
        {
          "output_type": "execute_result",
          "data": {
            "text/plain": [
              "Index(['timeid', 'name', 'gender', 'pcard', 'ccard', 'position', 'paction',\n",
              "       'caction', 'outcome'],\n",
              "      dtype='object')"
            ]
          },
          "metadata": {
            "tags": []
          },
          "execution_count": 1
        }
      ]
    },
    {
      "cell_type": "code",
      "metadata": {
        "id": "DpABmr6Zp9Tf",
        "colab_type": "code",
        "colab": {
          "base_uri": "https://localhost:8080/",
          "height": 1000
        },
        "outputId": "6e3e8185-1045-4d4d-dfdd-0b4e52baf9ac"
      },
      "source": [
        "df = df[ ~ df['name'].str.contains('Rutv')]\n",
        "print(df)\n"
      ],
      "execution_count": 2,
      "outputs": [
        {
          "output_type": "stream",
          "text": [
            "              timeid              name  gender  ... paction caction outcome\n",
            "0     20190822115314            Jeremy    male  ...    stay    stay      -1\n",
            "1     20190822115321               Gui    male  ...    stay    stay      -1\n",
            "2     20190822115325            Jeremy    male  ...    call     bet      -2\n",
            "3     20190822115334            Tanner    male  ...     bet    call      -2\n",
            "4     20190822115336              CHEN    male  ...     bet    call      -2\n",
            "5     20190822115339               Gui    male  ...    stay    stay       1\n",
            "6     20190822115340            Jeremy    male  ...    stay    stay      -1\n",
            "7     20190822115347            Tanner    male  ...    stay    stay       1\n",
            "8     20190822115348               Gui    male  ...     bet    fold       1\n",
            "9     20190822115348   Hayley Coughlin  female  ...     bet    call      -2\n",
            "10    20190822115350            Jeremy    male  ...    stay    stay       1\n",
            "11    20190822115351              CHEN    male  ...    stay    stay       1\n",
            "12    20190822115355            Jeremy    male  ...     bet    fold       1\n",
            "13    20190822115359              CHEN    male  ...     bet    fold       1\n",
            "14    20190822115403               Gui    male  ...    fold     bet      -1\n",
            "15    20190822115406              CHEN    male  ...    stay    stay      -1\n",
            "16    20190822115407            Jeremy    male  ...    fold     bet      -1\n",
            "17    20190822115408   Hayley Coughlin  female  ...    fold     bet      -1\n",
            "18    20190822115409               Gui    male  ...     bet    fold       1\n",
            "19    20190822115413            Tanner    male  ...    stay    stay       1\n",
            "20    20190822115414               Ebi    male  ...    stay    stay      -1\n",
            "21    20190822115415            Jeremy    male  ...    stay    stay      -1\n",
            "22    20190822115418         Alaina A.  female  ...     bet    call      -2\n",
            "23    20190822115419               Gui    male  ...    call     bet      -2\n",
            "24    20190822115420   Hayley Coughlin  female  ...     bet    fold       1\n",
            "25    20190822115420            Tanner    male  ...    stay    stay       1\n",
            "26    20190822115421            Jeremy    male  ...    fold     bet      -1\n",
            "27    20190822115425            Jeremy    male  ...     bet    fold       1\n",
            "28    20190822115425               Gui    male  ...    stay    stay      -1\n",
            "29    20190822115427            Tanner    male  ...    stay    stay      -1\n",
            "...              ...               ...     ...  ...     ...     ...     ...\n",
            "1151  20190831205958  Brandon Anderson    male  ...    stay    stay      -1\n",
            "1152  20190831210005  Brandon Anderson    male  ...    call     bet      -2\n",
            "1153  20190904120157     Carole Reeves  female  ...    stay    stay      -1\n",
            "1154  20190904120207     Carole Reeves  female  ...    stay    stay      -1\n",
            "1155  20190904120215     Carole Reeves  female  ...     bet    fold       1\n",
            "1156  20190904120230     Carole Reeves  female  ...    fold     bet      -1\n",
            "1157  20190904120249     Carole Reeves  female  ...    stay    stay      -1\n",
            "1158  20190904120257     Carole Reeves  female  ...    stay    stay       1\n",
            "1159  20190904120307     Carole Reeves  female  ...    stay    stay      -1\n",
            "1160  20190904120313     Carole Reeves  female  ...    stay    stay      -1\n",
            "1161  20190904120318     Carole Reeves  female  ...     bet    fold       1\n",
            "1162  20190904120330     Carole Reeves  female  ...    fold     bet      -1\n",
            "1163  20190904120336     Carole Reeves  female  ...     bet    call      -2\n",
            "1164  20190904120344     Carole Reeves  female  ...    fold     bet      -1\n",
            "1165  20190904120348     Carole Reeves  female  ...     bet    fold       1\n",
            "1166  20190904120400     Carole Reeves  female  ...    stay    stay       1\n",
            "1167  20190904120408     Carole Reeves  female  ...    stay    stay       1\n",
            "1168  20190904120416     Carole Reeves  female  ...    stay    stay      -1\n",
            "1169  20190904120421     Carole Reeves  female  ...     bet    fold       1\n",
            "1170  20190904120434     Carole Reeves  female  ...    stay    stay      -1\n",
            "1171  20190904120446     Carole Reeves  female  ...     bet    call      -2\n",
            "1172  20190904120451     Carole Reeves  female  ...    stay    stay       1\n",
            "1173  20190904120456     Carole Reeves  female  ...    stay    stay      -1\n",
            "1174  20190904120501     Carole Reeves  female  ...    stay    stay       1\n",
            "1175  20190904120506     Carole Reeves  female  ...     bet    call      -2\n",
            "1176  20190904120510     Carole Reeves  female  ...    stay    stay       1\n",
            "1177  20190904120515     Carole Reeves  female  ...    stay    stay      -1\n",
            "1178  20190904120522     Carole Reeves  female  ...    fold     bet      -1\n",
            "1179  20190904120527     Carole Reeves  female  ...     bet    fold       1\n",
            "1180  20190904120532     Carole Reeves  female  ...    stay    stay       1\n",
            "\n",
            "[1166 rows x 9 columns]\n"
          ],
          "name": "stdout"
        }
      ]
    },
    {
      "cell_type": "code",
      "metadata": {
        "id": "usGWyqtOq0Ho",
        "colab_type": "code",
        "colab": {
          "base_uri": "https://localhost:8080/",
          "height": 1000
        },
        "outputId": "58bb407f-2fa4-4ca5-c230-2aab25ea5083"
      },
      "source": [
        "df1 = df[df['caction'].str.match('bet')]\n",
        "print (df1)"
      ],
      "execution_count": 3,
      "outputs": [
        {
          "output_type": "stream",
          "text": [
            "              timeid              name  gender  ... paction caction outcome\n",
            "2     20190822115325            Jeremy    male  ...    call     bet      -2\n",
            "14    20190822115403               Gui    male  ...    fold     bet      -1\n",
            "16    20190822115407            Jeremy    male  ...    fold     bet      -1\n",
            "17    20190822115408   Hayley Coughlin  female  ...    fold     bet      -1\n",
            "23    20190822115419               Gui    male  ...    call     bet      -2\n",
            "26    20190822115421            Jeremy    male  ...    fold     bet      -1\n",
            "30    20190822115428         Alaina A.  female  ...    fold     bet      -1\n",
            "36    20190822115433               Gui    male  ...    call     bet      -2\n",
            "47    20190822115446               Gui    male  ...    fold     bet      -1\n",
            "56    20190822115457         Alaina A.  female  ...    call     bet      -2\n",
            "58    20190822115457            Brenna  female  ...    fold     bet      -1\n",
            "74    20190822115511            Jeremy    male  ...    fold     bet      -1\n",
            "80    20190822115516   Hayley Coughlin  female  ...    fold     bet      -1\n",
            "91    20190822115527            Jeremy    male  ...    fold     bet      -1\n",
            "93    20190822115528            Tanner    male  ...    fold     bet      -1\n",
            "124   20190822115554   Hayley Coughlin  female  ...    call     bet      -2\n",
            "125   20190822115554            Jeremy    male  ...    call     bet      -2\n",
            "127   20190822115555               Ebi    male  ...    call     bet      -2\n",
            "131   20190822115559         Alaina A.  female  ...    call     bet      -2\n",
            "142   20190822115608            Jeremy    male  ...    call     bet      -2\n",
            "144   20190822115609      Justin Drake    male  ...    call     bet      -2\n",
            "145   20190822115609            Tanner    male  ...    fold     bet      -1\n",
            "149   20190822115614         Alaina A.  female  ...    fold     bet      -1\n",
            "155   20190822115619            Brenna  female  ...    fold     bet      -1\n",
            "178   20190822115635              CHEN    male  ...    call     bet      -2\n",
            "179   20190822115635               Ebi    male  ...    call     bet      -2\n",
            "182   20190822115637      Justin Drake    male  ...    call     bet      -2\n",
            "186   20190822115641            Tanner    male  ...    fold     bet      -1\n",
            "194   20190822115646              CHEN    male  ...    call     bet      -2\n",
            "201   20190822115650            Brenna  female  ...    call     bet      -2\n",
            "...              ...               ...     ...  ...     ...     ...     ...\n",
            "1031  20190830182801   Kayleigh Jowers  female  ...    fold     bet      -1\n",
            "1034  20190830193404   Kayleigh Jowers  female  ...    call     bet      -2\n",
            "1036  20190830193417   Kayleigh Jowers  female  ...    fold     bet      -1\n",
            "1038  20190830193433   Kayleigh Jowers  female  ...    fold     bet      -1\n",
            "1049  20190830193725   Kayleigh Jowers  female  ...    fold     bet      -1\n",
            "1055  20190830194055   Kayleigh Jowers  female  ...    call     bet      -2\n",
            "1071  20190830194658   Kayleigh Jowers  female  ...    call     bet      -2\n",
            "1075  20190830195024   Kayleigh Jowers  female  ...    call     bet      -2\n",
            "1081  20190830195246   Kayleigh Jowers  female  ...    fold     bet      -1\n",
            "1087  20190830195410   Kayleigh Jowers  female  ...    call     bet      -2\n",
            "1095  20190830195503   Kayleigh Jowers  female  ...    fold     bet      -1\n",
            "1097  20190830214447   Kayleigh Jowers  female  ...    fold     bet      -1\n",
            "1103  20190830214528   Kayleigh Jowers  female  ...    fold     bet      -1\n",
            "1107  20190830214604   Kayleigh Jowers  female  ...    fold     bet      -1\n",
            "1111  20190830214628   Kayleigh Jowers  female  ...    fold     bet      -1\n",
            "1116  20190830214849   Kayleigh Jowers  female  ...    call     bet      -2\n",
            "1118  20190830214901   Kayleigh Jowers  female  ...    fold     bet      -1\n",
            "1126  20190830215033   Kayleigh Jowers  female  ...    call     bet      -2\n",
            "1132  20190830215147   Kayleigh Jowers  female  ...    call     bet      -2\n",
            "1134  20190830215214   Kayleigh Jowers  female  ...    fold     bet      -1\n",
            "1136  20190830215235   Kayleigh Jowers  female  ...    call     bet      -2\n",
            "1144  20190831205839  Brandon Anderson    male  ...    call     bet      -2\n",
            "1146  20190831205906  Brandon Anderson    male  ...    fold     bet      -1\n",
            "1148  20190831205929  Brandon Anderson    male  ...    fold     bet      -1\n",
            "1150  20190831205943  Brandon Anderson    male  ...    call     bet      -2\n",
            "1152  20190831210005  Brandon Anderson    male  ...    call     bet      -2\n",
            "1156  20190904120230     Carole Reeves  female  ...    fold     bet      -1\n",
            "1162  20190904120330     Carole Reeves  female  ...    fold     bet      -1\n",
            "1164  20190904120344     Carole Reeves  female  ...    fold     bet      -1\n",
            "1178  20190904120522     Carole Reeves  female  ...    fold     bet      -1\n",
            "\n",
            "[180 rows x 9 columns]\n"
          ],
          "name": "stdout"
        }
      ]
    },
    {
      "cell_type": "code",
      "metadata": {
        "id": "ceanl5i-rHC8",
        "colab_type": "code",
        "colab": {
          "base_uri": "https://localhost:8080/",
          "height": 34
        },
        "outputId": "6db98445-0541-458a-e97d-ce82774263b6"
      },
      "source": [
        "answer1 = 180/1166\n",
        "print (answer1)"
      ],
      "execution_count": 4,
      "outputs": [
        {
          "output_type": "stream",
          "text": [
            "0.15437392795883362\n"
          ],
          "name": "stdout"
        }
      ]
    },
    {
      "cell_type": "code",
      "metadata": {
        "id": "t2lGnRGrripv",
        "colab_type": "code",
        "colab": {
          "base_uri": "https://localhost:8080/",
          "height": 1000
        },
        "outputId": "436fc384-17bf-467d-bf49-875dd47437fa"
      },
      "source": [
        "dff = df[df['gender'].str.match('female')]\n",
        "print (dff)"
      ],
      "execution_count": 5,
      "outputs": [
        {
          "output_type": "stream",
          "text": [
            "              timeid             name  gender  ... paction caction outcome\n",
            "9     20190822115348  Hayley Coughlin  female  ...     bet    call      -2\n",
            "17    20190822115408  Hayley Coughlin  female  ...    fold     bet      -1\n",
            "22    20190822115418        Alaina A.  female  ...     bet    call      -2\n",
            "24    20190822115420  Hayley Coughlin  female  ...     bet    fold       1\n",
            "30    20190822115428        Alaina A.  female  ...    fold     bet      -1\n",
            "32    20190822115430  Hayley Coughlin  female  ...    stay    stay       1\n",
            "33    20190822115430           Brenna  female  ...     bet    call      -2\n",
            "39    20190822115438        Alaina A.  female  ...    stay    stay      -1\n",
            "42    20190822115442  Hayley Coughlin  female  ...    stay    stay      -1\n",
            "50    20190822115450  Hayley Coughlin  female  ...    stay    stay       1\n",
            "56    20190822115457        Alaina A.  female  ...    call     bet      -2\n",
            "58    20190822115457           Brenna  female  ...    fold     bet      -1\n",
            "59    20190822115457  Hayley Coughlin  female  ...     bet    fold       1\n",
            "67    20190822115505           Brenna  female  ...     bet    fold       1\n",
            "69    20190822115508        Alaina A.  female  ...    stay    stay       1\n",
            "80    20190822115516  Hayley Coughlin  female  ...    fold     bet      -1\n",
            "81    20190822115517           Brenna  female  ...    stay    stay       1\n",
            "85    20190822115521        Alaina A.  female  ...    stay    stay      -1\n",
            "90    20190822115524  Hayley Coughlin  female  ...     bet    fold       1\n",
            "95    20190822115530        Alaina A.  female  ...    stay    stay      -1\n",
            "96    20190822115531  Hayley Coughlin  female  ...    stay    stay       1\n",
            "100   20190822115534           Brenna  female  ...     bet    fold       1\n",
            "108   20190822115540        Alaina A.  female  ...    stay    stay       1\n",
            "109   20190822115540        Alaina A.  female  ...    stay    stay       1\n",
            "110   20190822115541  Hayley Coughlin  female  ...    stay    stay       1\n",
            "115   20190822115544           Brenna  female  ...    stay    stay       1\n",
            "122   20190822115552        Alaina A.  female  ...    stay    stay      -1\n",
            "124   20190822115554  Hayley Coughlin  female  ...    call     bet      -2\n",
            "129   20190822115557           Brenna  female  ...    stay    stay      -1\n",
            "131   20190822115559        Alaina A.  female  ...    call     bet      -2\n",
            "...              ...              ...     ...  ...     ...     ...     ...\n",
            "1135  20190830215226  Kayleigh Jowers  female  ...    stay    stay      -1\n",
            "1136  20190830215235  Kayleigh Jowers  female  ...    call     bet      -2\n",
            "1153  20190904120157    Carole Reeves  female  ...    stay    stay      -1\n",
            "1154  20190904120207    Carole Reeves  female  ...    stay    stay      -1\n",
            "1155  20190904120215    Carole Reeves  female  ...     bet    fold       1\n",
            "1156  20190904120230    Carole Reeves  female  ...    fold     bet      -1\n",
            "1157  20190904120249    Carole Reeves  female  ...    stay    stay      -1\n",
            "1158  20190904120257    Carole Reeves  female  ...    stay    stay       1\n",
            "1159  20190904120307    Carole Reeves  female  ...    stay    stay      -1\n",
            "1160  20190904120313    Carole Reeves  female  ...    stay    stay      -1\n",
            "1161  20190904120318    Carole Reeves  female  ...     bet    fold       1\n",
            "1162  20190904120330    Carole Reeves  female  ...    fold     bet      -1\n",
            "1163  20190904120336    Carole Reeves  female  ...     bet    call      -2\n",
            "1164  20190904120344    Carole Reeves  female  ...    fold     bet      -1\n",
            "1165  20190904120348    Carole Reeves  female  ...     bet    fold       1\n",
            "1166  20190904120400    Carole Reeves  female  ...    stay    stay       1\n",
            "1167  20190904120408    Carole Reeves  female  ...    stay    stay       1\n",
            "1168  20190904120416    Carole Reeves  female  ...    stay    stay      -1\n",
            "1169  20190904120421    Carole Reeves  female  ...     bet    fold       1\n",
            "1170  20190904120434    Carole Reeves  female  ...    stay    stay      -1\n",
            "1171  20190904120446    Carole Reeves  female  ...     bet    call      -2\n",
            "1172  20190904120451    Carole Reeves  female  ...    stay    stay       1\n",
            "1173  20190904120456    Carole Reeves  female  ...    stay    stay      -1\n",
            "1174  20190904120501    Carole Reeves  female  ...    stay    stay       1\n",
            "1175  20190904120506    Carole Reeves  female  ...     bet    call      -2\n",
            "1176  20190904120510    Carole Reeves  female  ...    stay    stay       1\n",
            "1177  20190904120515    Carole Reeves  female  ...    stay    stay      -1\n",
            "1178  20190904120522    Carole Reeves  female  ...    fold     bet      -1\n",
            "1179  20190904120527    Carole Reeves  female  ...     bet    fold       1\n",
            "1180  20190904120532    Carole Reeves  female  ...    stay    stay       1\n",
            "\n",
            "[363 rows x 9 columns]\n"
          ],
          "name": "stdout"
        }
      ]
    },
    {
      "cell_type": "code",
      "metadata": {
        "id": "FhM_K-Uwt9km",
        "colab_type": "code",
        "colab": {
          "base_uri": "https://localhost:8080/",
          "height": 1000
        },
        "outputId": "d968ae29-a892-41a7-e486-0821ebcb1f3a"
      },
      "source": [
        "df2 = dff[dff['caction'].str.match('bet')]\n",
        "print (df2)"
      ],
      "execution_count": 6,
      "outputs": [
        {
          "output_type": "stream",
          "text": [
            "              timeid             name  gender  ... paction caction outcome\n",
            "17    20190822115408  Hayley Coughlin  female  ...    fold     bet      -1\n",
            "30    20190822115428        Alaina A.  female  ...    fold     bet      -1\n",
            "56    20190822115457        Alaina A.  female  ...    call     bet      -2\n",
            "58    20190822115457           Brenna  female  ...    fold     bet      -1\n",
            "80    20190822115516  Hayley Coughlin  female  ...    fold     bet      -1\n",
            "124   20190822115554  Hayley Coughlin  female  ...    call     bet      -2\n",
            "131   20190822115559        Alaina A.  female  ...    call     bet      -2\n",
            "149   20190822115614        Alaina A.  female  ...    fold     bet      -1\n",
            "155   20190822115619           Brenna  female  ...    fold     bet      -1\n",
            "201   20190822115650           Brenna  female  ...    call     bet      -2\n",
            "228   20190822115715        Alaina A.  female  ...    fold     bet      -1\n",
            "234   20190822115717  Hayley Coughlin  female  ...    fold     bet      -1\n",
            "263   20190822115736           Brenna  female  ...    fold     bet      -1\n",
            "330   20190822132356           Cantey  female  ...    fold     bet      -1\n",
            "332   20190822132425           Cantey  female  ...    call     bet      -2\n",
            "336   20190822132502           Cantey  female  ...    fold     bet      -1\n",
            "348   20190822132702           Cantey  female  ...    call     bet      -2\n",
            "352   20190822132733           Cantey  female  ...    fold     bet      -1\n",
            "358   20190822132905           Cantey  female  ...    call     bet      -2\n",
            "366   20190822132954           Cantey  female  ...    call     bet      -2\n",
            "374   20190822133034           Cantey  female  ...    fold     bet      -1\n",
            "376   20190822133045           Cantey  female  ...    fold     bet      -1\n",
            "703   20190824114007     Haley Penney  female  ...    call     bet      -2\n",
            "717   20190824114411     Haley Penney  female  ...    fold     bet      -1\n",
            "724   20190824114539     Haley Penney  female  ...    call     bet      -2\n",
            "726   20190824114553     Haley Penney  female  ...    call     bet      -2\n",
            "732   20190824114634     Haley Penney  female  ...    call     bet      -2\n",
            "768   20190824195201  Jennifer Cooper  female  ...    call     bet      -2\n",
            "772   20190824195256  Jennifer Cooper  female  ...    fold     bet      -1\n",
            "773   20190824195259  Jennifer Cooper  female  ...    fold     bet      -1\n",
            "782   20190824195441  Jennifer Cooper  female  ...    fold     bet      -1\n",
            "1011  20190830182528  Kayleigh Jowers  female  ...    fold     bet      -1\n",
            "1023  20190830182703  Kayleigh Jowers  female  ...    call     bet      -2\n",
            "1025  20190830182718  Kayleigh Jowers  female  ...    fold     bet      -1\n",
            "1029  20190830182745  Kayleigh Jowers  female  ...    fold     bet      -1\n",
            "1031  20190830182801  Kayleigh Jowers  female  ...    fold     bet      -1\n",
            "1034  20190830193404  Kayleigh Jowers  female  ...    call     bet      -2\n",
            "1036  20190830193417  Kayleigh Jowers  female  ...    fold     bet      -1\n",
            "1038  20190830193433  Kayleigh Jowers  female  ...    fold     bet      -1\n",
            "1049  20190830193725  Kayleigh Jowers  female  ...    fold     bet      -1\n",
            "1055  20190830194055  Kayleigh Jowers  female  ...    call     bet      -2\n",
            "1071  20190830194658  Kayleigh Jowers  female  ...    call     bet      -2\n",
            "1075  20190830195024  Kayleigh Jowers  female  ...    call     bet      -2\n",
            "1081  20190830195246  Kayleigh Jowers  female  ...    fold     bet      -1\n",
            "1087  20190830195410  Kayleigh Jowers  female  ...    call     bet      -2\n",
            "1095  20190830195503  Kayleigh Jowers  female  ...    fold     bet      -1\n",
            "1097  20190830214447  Kayleigh Jowers  female  ...    fold     bet      -1\n",
            "1103  20190830214528  Kayleigh Jowers  female  ...    fold     bet      -1\n",
            "1107  20190830214604  Kayleigh Jowers  female  ...    fold     bet      -1\n",
            "1111  20190830214628  Kayleigh Jowers  female  ...    fold     bet      -1\n",
            "1116  20190830214849  Kayleigh Jowers  female  ...    call     bet      -2\n",
            "1118  20190830214901  Kayleigh Jowers  female  ...    fold     bet      -1\n",
            "1126  20190830215033  Kayleigh Jowers  female  ...    call     bet      -2\n",
            "1132  20190830215147  Kayleigh Jowers  female  ...    call     bet      -2\n",
            "1134  20190830215214  Kayleigh Jowers  female  ...    fold     bet      -1\n",
            "1136  20190830215235  Kayleigh Jowers  female  ...    call     bet      -2\n",
            "1156  20190904120230    Carole Reeves  female  ...    fold     bet      -1\n",
            "1162  20190904120330    Carole Reeves  female  ...    fold     bet      -1\n",
            "1164  20190904120344    Carole Reeves  female  ...    fold     bet      -1\n",
            "1178  20190904120522    Carole Reeves  female  ...    fold     bet      -1\n",
            "\n",
            "[60 rows x 9 columns]\n"
          ],
          "name": "stdout"
        }
      ]
    },
    {
      "cell_type": "code",
      "metadata": {
        "id": "0z818wR5uoRq",
        "colab_type": "code",
        "colab": {
          "base_uri": "https://localhost:8080/",
          "height": 34
        },
        "outputId": "82bbc7d3-02ca-4771-99d7-b7e274619837"
      },
      "source": [
        "answer2 = 60/363\n",
        "print (answer2)"
      ],
      "execution_count": 7,
      "outputs": [
        {
          "output_type": "stream",
          "text": [
            "0.1652892561983471\n"
          ],
          "name": "stdout"
        }
      ]
    },
    {
      "cell_type": "code",
      "metadata": {
        "id": "xKoexOmWuwq4",
        "colab_type": "code",
        "colab": {}
      },
      "source": [
        "#  Events A and B are not independent, but neither are they causal.  \n",
        "                #12% of the results where a female player is involved, the computer decided to bet, but this could be the\n",
        "                #result of the hands the females were dealt, or underlie a more aggressive play style by the females.  \n",
        "                #There is certainly some overlap in the results of A and B indicated by the results above."
      ],
      "execution_count": 0,
      "outputs": []
    }
  ]
}