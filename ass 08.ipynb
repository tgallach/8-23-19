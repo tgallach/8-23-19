{
  "nbformat": 4,
  "nbformat_minor": 0,
  "metadata": {
    "colab": {
      "name": "Untitled5.ipynb",
      "provenance": [],
      "include_colab_link": true
    },
    "kernelspec": {
      "name": "python3",
      "display_name": "Python 3"
    }
  },
  "cells": [
    {
      "cell_type": "markdown",
      "metadata": {
        "id": "view-in-github",
        "colab_type": "text"
      },
      "source": [
        "<a href=\"https://colab.research.google.com/github/tgallach/8-23-19/blob/master/ass%2008.ipynb\" target=\"_parent\"><img src=\"https://colab.research.google.com/assets/colab-badge.svg\" alt=\"Open In Colab\"/></a>"
      ]
    },
    {
      "cell_type": "code",
      "metadata": {
        "id": "9ifNLPYPfdYP",
        "colab_type": "code",
        "colab": {}
      },
      "source": [
        "import pandas as pd\n",
        "import numpy as np\n",
        "from matplotlib import pyplot as plt\n",
        "from numpy.random import choice\n",
        "from matplotlib import pyplot as plt\n",
        "%matplotlib inline"
      ],
      "execution_count": 0,
      "outputs": []
    },
    {
      "cell_type": "code",
      "metadata": {
        "id": "cFFs8eSifg3P",
        "colab_type": "code",
        "colab": {}
      },
      "source": [
        "\n",
        "#1. Fisher's Test"
      ],
      "execution_count": 0,
      "outputs": []
    },
    {
      "cell_type": "code",
      "metadata": {
        "id": "zmkrXpe4forf",
        "colab_type": "code",
        "outputId": "eca6813d-4d60-429f-952e-2542e54249a3",
        "colab": {
          "base_uri": "https://localhost:8080/",
          "height": 51
        }
      },
      "source": [
        "# fill in you data\n",
        "data = np.matrix( [[32,18],[11,19]])\n",
        "print(data)"
      ],
      "execution_count": 66,
      "outputs": [
        {
          "output_type": "stream",
          "text": [
            "[[32 18]\n",
            " [11 19]]\n"
          ],
          "name": "stdout"
        }
      ]
    },
    {
      "cell_type": "code",
      "metadata": {
        "id": "_C7cPHBafuTe",
        "colab_type": "code",
        "outputId": "8b2f5121-5f40-4a63-8a0a-bb6b9e4b14d3",
        "colab": {
          "base_uri": "https://localhost:8080/",
          "height": 34
        }
      },
      "source": [
        "#If her responses were completely random, what was the probability to obtain the given table?\n",
        "# save your answer into =ptable= variable \n",
        "\n",
        "data.sum()"
      ],
      "execution_count": 67,
      "outputs": [
        {
          "output_type": "execute_result",
          "data": {
            "text/plain": [
              "80"
            ]
          },
          "metadata": {
            "tags": []
          },
          "execution_count": 67
        }
      ]
    },
    {
      "cell_type": "code",
      "metadata": {
        "id": "XwV2LEu5nQV-",
        "colab_type": "code",
        "outputId": "597792fb-359f-408f-fb94-a6c24dbc3b7e",
        "colab": {
          "base_uri": "https://localhost:8080/",
          "height": 34
        }
      },
      "source": [
        "data.sum(axis=0)"
      ],
      "execution_count": 68,
      "outputs": [
        {
          "output_type": "execute_result",
          "data": {
            "text/plain": [
              "matrix([[43, 37]])"
            ]
          },
          "metadata": {
            "tags": []
          },
          "execution_count": 68
        }
      ]
    },
    {
      "cell_type": "code",
      "metadata": {
        "id": "iizZf14FnXuc",
        "colab_type": "code",
        "outputId": "c6f74e69-4275-4f96-bc17-c9b7211dff12",
        "colab": {
          "base_uri": "https://localhost:8080/",
          "height": 51
        }
      },
      "source": [
        "data.sum(axis = 1)"
      ],
      "execution_count": 69,
      "outputs": [
        {
          "output_type": "execute_result",
          "data": {
            "text/plain": [
              "matrix([[50],\n",
              "        [30]])"
            ]
          },
          "metadata": {
            "tags": []
          },
          "execution_count": 69
        }
      ]
    },
    {
      "cell_type": "code",
      "metadata": {
        "id": "KlV7fSb_ng2N",
        "colab_type": "code",
        "outputId": "cffca842-0884-45b9-9024-bf206679f85c",
        "colab": {
          "base_uri": "https://localhost:8080/",
          "height": 34
        }
      },
      "source": [
        "import numpy as np \n",
        "from scipy.stats import fisher_exact\n",
        "from scipy.stats import hypergeom\n",
        "\n",
        "\n",
        "X =hypergeom(80,43,50)\n",
        "vals = range(0,44)\n",
        "probs = X.pmf(vals)\n",
        "probs[ probs<=X.pmf(32)].sum()"
      ],
      "execution_count": 70,
      "outputs": [
        {
          "output_type": "execute_result",
          "data": {
            "text/plain": [
              "0.021828691306254516"
            ]
          },
          "metadata": {
            "tags": []
          },
          "execution_count": 70
        }
      ]
    },
    {
      "cell_type": "code",
      "metadata": {
        "id": "YJ0wPW_rl6sh",
        "colab_type": "code",
        "colab": {}
      },
      "source": [
        "ptable = 0.021828691306254516"
      ],
      "execution_count": 0,
      "outputs": []
    },
    {
      "cell_type": "code",
      "metadata": {
        "id": "tgYStJVtfxkq",
        "colab_type": "code",
        "outputId": "9fa98a3a-324a-4cc9-de94-09f8321bc818",
        "colab": {
          "base_uri": "https://localhost:8080/",
          "height": 34
        }
      },
      "source": [
        "# Use two-sided exact test to check for statistical significance.\n",
        "# Calculate p-value and save it into variable pval\n",
        "\n",
        "import numpy as np \n",
        "from scipy.stats import fisher_exact\n",
        "data = np.matrix( [[33,17],[9,21]])\n",
        "_, pval = fisher_exact(data,alternative=\"two-sided\")\n",
        "print(pval)"
      ],
      "execution_count": 72,
      "outputs": [
        {
          "output_type": "stream",
          "text": [
            "0.002557332608682513\n"
          ],
          "name": "stdout"
        }
      ]
    },
    {
      "cell_type": "code",
      "metadata": {
        "id": "InZ9vJ8DmwWo",
        "colab_type": "code",
        "colab": {}
      },
      "source": [
        "pval = 0.002557332608682513"
      ],
      "execution_count": 0,
      "outputs": []
    },
    {
      "cell_type": "code",
      "metadata": {
        "id": "pxrC4wnqf0R0",
        "colab_type": "code",
        "colab": {}
      },
      "source": [
        "#2. Bootsrap Confidence Interval"
      ],
      "execution_count": 0,
      "outputs": []
    },
    {
      "cell_type": "code",
      "metadata": {
        "id": "Dd2XkNn2f7lC",
        "colab_type": "code",
        "colab": {}
      },
      "source": [
        "# TODO: load the file \"tennis2.csv\"\n",
        "# !pip install scikits.bootstrap\n",
        "\n",
        "from matplotlib import pyplot as plt\n",
        "%matplotlib inline\n",
        "\n",
        "from scipy.stats import t\n",
        "from scipy.stats import binom\n",
        "from numpy.random import choice\n",
        "import numpy as np \n",
        "\n",
        "## create a binomial random variable\n",
        "X = binom(n=20,p=0.5)\n",
        "\n",
        "randomsample = X.rvs(20) #generate a sample from X\n",
        "randomsample\n",
        "\n",
        "PATH = (\"http://optimizizer.com/data/tennis2.csv\")\n",
        "speed = pd.read_csv(PATH)\n"
      ],
      "execution_count": 0,
      "outputs": []
    },
    {
      "cell_type": "code",
      "metadata": {
        "id": "BtALCwJsgAWv",
        "colab_type": "code",
        "colab": {
          "base_uri": "https://localhost:8080/",
          "height": 204
        },
        "outputId": "017b2f35-664e-418c-ec33-348efe4db88a"
      },
      "source": [
        "# TODO: display the first rows\n",
        "speed.head()"
      ],
      "execution_count": 114,
      "outputs": [
        {
          "output_type": "execute_result",
          "data": {
            "text/html": [
              "<div>\n",
              "<style scoped>\n",
              "    .dataframe tbody tr th:only-of-type {\n",
              "        vertical-align: middle;\n",
              "    }\n",
              "\n",
              "    .dataframe tbody tr th {\n",
              "        vertical-align: top;\n",
              "    }\n",
              "\n",
              "    .dataframe thead th {\n",
              "        text-align: right;\n",
              "    }\n",
              "</style>\n",
              "<table border=\"1\" class=\"dataframe\">\n",
              "  <thead>\n",
              "    <tr style=\"text-align: right;\">\n",
              "      <th></th>\n",
              "      <th>speed1</th>\n",
              "      <th>speed2</th>\n",
              "    </tr>\n",
              "  </thead>\n",
              "  <tbody>\n",
              "    <tr>\n",
              "      <th>0</th>\n",
              "      <td>68.20</td>\n",
              "      <td>61.50</td>\n",
              "    </tr>\n",
              "    <tr>\n",
              "      <th>1</th>\n",
              "      <td>82.72</td>\n",
              "      <td>73.55</td>\n",
              "    </tr>\n",
              "    <tr>\n",
              "      <th>2</th>\n",
              "      <td>72.45</td>\n",
              "      <td>81.49</td>\n",
              "    </tr>\n",
              "    <tr>\n",
              "      <th>3</th>\n",
              "      <td>76.55</td>\n",
              "      <td>73.92</td>\n",
              "    </tr>\n",
              "    <tr>\n",
              "      <th>4</th>\n",
              "      <td>77.25</td>\n",
              "      <td>82.60</td>\n",
              "    </tr>\n",
              "  </tbody>\n",
              "</table>\n",
              "</div>"
            ],
            "text/plain": [
              "   speed1  speed2\n",
              "0   68.20   61.50\n",
              "1   82.72   73.55\n",
              "2   72.45   81.49\n",
              "3   76.55   73.92\n",
              "4   77.25   82.60"
            ]
          },
          "metadata": {
            "tags": []
          },
          "execution_count": 114
        }
      ]
    },
    {
      "cell_type": "code",
      "metadata": {
        "id": "oi-wixfWgCfr",
        "colab_type": "code",
        "colab": {
          "base_uri": "https://localhost:8080/",
          "height": 119
        },
        "outputId": "2141e187-ab8b-4c13-f2a3-9ebacde2a13c"
      },
      "source": [
        "# TODO: select the column speed1 and save it into the variable \"speed1\"\n",
        "speed1 = speed.speed1\n",
        "speed1.head()"
      ],
      "execution_count": 115,
      "outputs": [
        {
          "output_type": "execute_result",
          "data": {
            "text/plain": [
              "0    68.20\n",
              "1    82.72\n",
              "2    72.45\n",
              "3    76.55\n",
              "4    77.25\n",
              "Name: speed1, dtype: float64"
            ]
          },
          "metadata": {
            "tags": []
          },
          "execution_count": 115
        }
      ]
    },
    {
      "cell_type": "code",
      "metadata": {
        "id": "NJBudyiHgGsR",
        "colab_type": "code",
        "colab": {
          "base_uri": "https://localhost:8080/",
          "height": 119
        },
        "outputId": "c187ca9f-7e95-4678-8fb1-0dd752de57f7"
      },
      "source": [
        "# TODO: select the column speed2 and save it into the variable \"speed2\"\n",
        "speed2 = speed.speed2\n",
        "speed2.head()"
      ],
      "execution_count": 116,
      "outputs": [
        {
          "output_type": "execute_result",
          "data": {
            "text/plain": [
              "0    61.50\n",
              "1    73.55\n",
              "2    81.49\n",
              "3    73.92\n",
              "4    82.60\n",
              "Name: speed2, dtype: float64"
            ]
          },
          "metadata": {
            "tags": []
          },
          "execution_count": 116
        }
      ]
    },
    {
      "cell_type": "code",
      "metadata": {
        "id": "DeJJJjePgHdI",
        "colab_type": "code",
        "colab": {
          "base_uri": "https://localhost:8080/",
          "height": 34
        },
        "outputId": "2bc7bd7f-4ae7-4943-b1c9-c37844a76c32"
      },
      "source": [
        "# TODO: create a new vector =diff= that shows the differences \n",
        "# of the measurements produced by the two systems.\n",
        "diff = np.mean(speed1) - np.mean(speed2)\n",
        "diff"
      ],
      "execution_count": 117,
      "outputs": [
        {
          "output_type": "execute_result",
          "data": {
            "text/plain": [
              "-1.8060000000000116"
            ]
          },
          "metadata": {
            "tags": []
          },
          "execution_count": 117
        }
      ]
    },
    {
      "cell_type": "code",
      "metadata": {
        "id": "rPx95EpAgJgy",
        "colab_type": "code",
        "colab": {}
      },
      "source": [
        "# fix the following code by replacing the question marks \n",
        "# You code should collect average difference \n",
        "# for different bootstrap samples\n",
        "\n",
        "\n",
        "np.random.seed(777) # set random seed (don't change this!)\n",
        "B = 10000 # number of bootstrap sample (don't change this!)\n",
        "bootstrapmeans = []\n",
        "\n",
        "for i in range(B):\n",
        "    bootsample = choice(randomsample, size=len(randomsample), replace=True)\n",
        "    bootstrapmeans.append(bootsample.mean()) \n",
        "    i = i"
      ],
      "execution_count": 0,
      "outputs": []
    },
    {
      "cell_type": "code",
      "metadata": {
        "id": "oVkO2-QOgNDu",
        "colab_type": "code",
        "colab": {
          "base_uri": "https://localhost:8080/",
          "height": 265
        },
        "outputId": "f1a6f4de-381d-4b84-94d5-94194bbee28c"
      },
      "source": [
        "# plot the histogram of bootsraped average diffs\n",
        "_ = plt.hist(bootstrapmeans,rwidth=0.9,bins=20)"
      ],
      "execution_count": 120,
      "outputs": [
        {
          "output_type": "display_data",
          "data": {
            "image/png": "[encoded data removed]",
            "text/plain": [
              "<Figure size 432x288 with 1 Axes>"
            ]
          },
          "metadata": {
            "tags": []
          }
        }
      ]
    },
    {
      "cell_type": "code",
      "metadata": {
        "id": "Mk6_DO2pgSgI",
        "colab_type": "code",
        "colab": {
          "base_uri": "https://localhost:8080/",
          "height": 51
        },
        "outputId": "96a9e2dd-3c8a-4482-d265-a042d044030e"
      },
      "source": [
        "# calculate the confidence interval \n",
        "L,U = np.percentile(bootstrapmeans, [0.025,0.975])\n",
        "print(\"\\n bootstrap (perc) CI:\",L,U,\",  while the average observed difference is \",diff)"
      ],
      "execution_count": 122,
      "outputs": [
        {
          "output_type": "stream",
          "text": [
            "\n",
            " bootstrap (perc) CI: 8.6 9.0 ,  while the average observed difference is  -1.8060000000000116\n"
          ],
          "name": "stdout"
        }
      ]
    },
    {
      "cell_type": "code",
      "metadata": {
        "id": "tl0akZkjgVlW",
        "colab_type": "code",
        "colab": {}
      },
      "source": [
        ""
      ],
      "execution_count": 0,
      "outputs": []
    }
  ]
}